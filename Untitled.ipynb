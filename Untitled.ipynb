{
 "cells": [
  {
   "cell_type": "code",
   "execution_count": 1,
   "id": "4dc7bf4d",
   "metadata": {
    "ExecuteTime": {
     "end_time": "2023-01-26T07:09:14.275277Z",
     "start_time": "2023-01-26T07:09:13.622419Z"
    }
   },
   "outputs": [],
   "source": [
    "import pandas as pd\n",
    "import numpy as np"
   ]
  },
  {
   "cell_type": "code",
   "execution_count": 2,
   "id": "51f3d1e7",
   "metadata": {
    "ExecuteTime": {
     "end_time": "2023-01-26T07:09:14.764964Z",
     "start_time": "2023-01-26T07:09:14.713768Z"
    }
   },
   "outputs": [],
   "source": [
    "df = pd.read_csv('ml-latest-small/ratings.csv')"
   ]
  },
  {
   "cell_type": "code",
   "execution_count": 3,
   "id": "fa4cb68b",
   "metadata": {
    "ExecuteTime": {
     "end_time": "2023-01-26T07:09:15.743023Z",
     "start_time": "2023-01-26T07:09:15.723308Z"
    }
   },
   "outputs": [
    {
     "data": {
      "text/html": [
       "<div>\n",
       "<style scoped>\n",
       "    .dataframe tbody tr th:only-of-type {\n",
       "        vertical-align: middle;\n",
       "    }\n",
       "\n",
       "    .dataframe tbody tr th {\n",
       "        vertical-align: top;\n",
       "    }\n",
       "\n",
       "    .dataframe thead th {\n",
       "        text-align: right;\n",
       "    }\n",
       "</style>\n",
       "<table border=\"1\" class=\"dataframe\">\n",
       "  <thead>\n",
       "    <tr style=\"text-align: right;\">\n",
       "      <th></th>\n",
       "      <th>userId</th>\n",
       "      <th>movieId</th>\n",
       "      <th>rating</th>\n",
       "      <th>timestamp</th>\n",
       "    </tr>\n",
       "  </thead>\n",
       "  <tbody>\n",
       "    <tr>\n",
       "      <th>0</th>\n",
       "      <td>1</td>\n",
       "      <td>1</td>\n",
       "      <td>4.0</td>\n",
       "      <td>964982703</td>\n",
       "    </tr>\n",
       "    <tr>\n",
       "      <th>1</th>\n",
       "      <td>1</td>\n",
       "      <td>3</td>\n",
       "      <td>4.0</td>\n",
       "      <td>964981247</td>\n",
       "    </tr>\n",
       "    <tr>\n",
       "      <th>2</th>\n",
       "      <td>1</td>\n",
       "      <td>6</td>\n",
       "      <td>4.0</td>\n",
       "      <td>964982224</td>\n",
       "    </tr>\n",
       "    <tr>\n",
       "      <th>3</th>\n",
       "      <td>1</td>\n",
       "      <td>47</td>\n",
       "      <td>5.0</td>\n",
       "      <td>964983815</td>\n",
       "    </tr>\n",
       "    <tr>\n",
       "      <th>4</th>\n",
       "      <td>1</td>\n",
       "      <td>50</td>\n",
       "      <td>5.0</td>\n",
       "      <td>964982931</td>\n",
       "    </tr>\n",
       "    <tr>\n",
       "      <th>...</th>\n",
       "      <td>...</td>\n",
       "      <td>...</td>\n",
       "      <td>...</td>\n",
       "      <td>...</td>\n",
       "    </tr>\n",
       "    <tr>\n",
       "      <th>100831</th>\n",
       "      <td>610</td>\n",
       "      <td>166534</td>\n",
       "      <td>4.0</td>\n",
       "      <td>1493848402</td>\n",
       "    </tr>\n",
       "    <tr>\n",
       "      <th>100832</th>\n",
       "      <td>610</td>\n",
       "      <td>168248</td>\n",
       "      <td>5.0</td>\n",
       "      <td>1493850091</td>\n",
       "    </tr>\n",
       "    <tr>\n",
       "      <th>100833</th>\n",
       "      <td>610</td>\n",
       "      <td>168250</td>\n",
       "      <td>5.0</td>\n",
       "      <td>1494273047</td>\n",
       "    </tr>\n",
       "    <tr>\n",
       "      <th>100834</th>\n",
       "      <td>610</td>\n",
       "      <td>168252</td>\n",
       "      <td>5.0</td>\n",
       "      <td>1493846352</td>\n",
       "    </tr>\n",
       "    <tr>\n",
       "      <th>100835</th>\n",
       "      <td>610</td>\n",
       "      <td>170875</td>\n",
       "      <td>3.0</td>\n",
       "      <td>1493846415</td>\n",
       "    </tr>\n",
       "  </tbody>\n",
       "</table>\n",
       "<p>100836 rows × 4 columns</p>\n",
       "</div>"
      ],
      "text/plain": [
       "        userId  movieId  rating   timestamp\n",
       "0            1        1     4.0   964982703\n",
       "1            1        3     4.0   964981247\n",
       "2            1        6     4.0   964982224\n",
       "3            1       47     5.0   964983815\n",
       "4            1       50     5.0   964982931\n",
       "...        ...      ...     ...         ...\n",
       "100831     610   166534     4.0  1493848402\n",
       "100832     610   168248     5.0  1493850091\n",
       "100833     610   168250     5.0  1494273047\n",
       "100834     610   168252     5.0  1493846352\n",
       "100835     610   170875     3.0  1493846415\n",
       "\n",
       "[100836 rows x 4 columns]"
      ]
     },
     "execution_count": 3,
     "metadata": {},
     "output_type": "execute_result"
    }
   ],
   "source": [
    "df"
   ]
  },
  {
   "cell_type": "code",
   "execution_count": 105,
   "id": "467a6ed0",
   "metadata": {
    "ExecuteTime": {
     "end_time": "2023-01-26T10:48:44.890236Z",
     "start_time": "2023-01-26T10:48:44.494419Z"
    }
   },
   "outputs": [
    {
     "data": {
      "text/html": [
       "<div>\n",
       "<style scoped>\n",
       "    .dataframe tbody tr th:only-of-type {\n",
       "        vertical-align: middle;\n",
       "    }\n",
       "\n",
       "    .dataframe tbody tr th {\n",
       "        vertical-align: top;\n",
       "    }\n",
       "\n",
       "    .dataframe thead th {\n",
       "        text-align: right;\n",
       "    }\n",
       "</style>\n",
       "<table border=\"1\" class=\"dataframe\">\n",
       "  <thead>\n",
       "    <tr style=\"text-align: right;\">\n",
       "      <th>movieId</th>\n",
       "      <th>1</th>\n",
       "      <th>2</th>\n",
       "      <th>3</th>\n",
       "      <th>4</th>\n",
       "      <th>5</th>\n",
       "      <th>6</th>\n",
       "      <th>7</th>\n",
       "      <th>8</th>\n",
       "      <th>9</th>\n",
       "      <th>10</th>\n",
       "      <th>...</th>\n",
       "      <th>193565</th>\n",
       "      <th>193567</th>\n",
       "      <th>193571</th>\n",
       "      <th>193573</th>\n",
       "      <th>193579</th>\n",
       "      <th>193581</th>\n",
       "      <th>193583</th>\n",
       "      <th>193585</th>\n",
       "      <th>193587</th>\n",
       "      <th>193609</th>\n",
       "    </tr>\n",
       "    <tr>\n",
       "      <th>userId</th>\n",
       "      <th></th>\n",
       "      <th></th>\n",
       "      <th></th>\n",
       "      <th></th>\n",
       "      <th></th>\n",
       "      <th></th>\n",
       "      <th></th>\n",
       "      <th></th>\n",
       "      <th></th>\n",
       "      <th></th>\n",
       "      <th></th>\n",
       "      <th></th>\n",
       "      <th></th>\n",
       "      <th></th>\n",
       "      <th></th>\n",
       "      <th></th>\n",
       "      <th></th>\n",
       "      <th></th>\n",
       "      <th></th>\n",
       "      <th></th>\n",
       "      <th></th>\n",
       "    </tr>\n",
       "  </thead>\n",
       "  <tbody>\n",
       "    <tr>\n",
       "      <th>1</th>\n",
       "      <td>3.0</td>\n",
       "      <td>0.0</td>\n",
       "      <td>3.0</td>\n",
       "      <td>0.0</td>\n",
       "      <td>0.0</td>\n",
       "      <td>3.0</td>\n",
       "      <td>0.0</td>\n",
       "      <td>0.0</td>\n",
       "      <td>0.0</td>\n",
       "      <td>0.0</td>\n",
       "      <td>...</td>\n",
       "      <td>0.0</td>\n",
       "      <td>0.0</td>\n",
       "      <td>0.0</td>\n",
       "      <td>0.0</td>\n",
       "      <td>0.0</td>\n",
       "      <td>0.0</td>\n",
       "      <td>0.0</td>\n",
       "      <td>0.0</td>\n",
       "      <td>0.0</td>\n",
       "      <td>0.0</td>\n",
       "    </tr>\n",
       "    <tr>\n",
       "      <th>2</th>\n",
       "      <td>0.0</td>\n",
       "      <td>0.0</td>\n",
       "      <td>0.0</td>\n",
       "      <td>0.0</td>\n",
       "      <td>0.0</td>\n",
       "      <td>0.0</td>\n",
       "      <td>0.0</td>\n",
       "      <td>0.0</td>\n",
       "      <td>0.0</td>\n",
       "      <td>0.0</td>\n",
       "      <td>...</td>\n",
       "      <td>0.0</td>\n",
       "      <td>0.0</td>\n",
       "      <td>0.0</td>\n",
       "      <td>0.0</td>\n",
       "      <td>0.0</td>\n",
       "      <td>0.0</td>\n",
       "      <td>0.0</td>\n",
       "      <td>0.0</td>\n",
       "      <td>0.0</td>\n",
       "      <td>0.0</td>\n",
       "    </tr>\n",
       "    <tr>\n",
       "      <th>3</th>\n",
       "      <td>0.0</td>\n",
       "      <td>0.0</td>\n",
       "      <td>0.0</td>\n",
       "      <td>0.0</td>\n",
       "      <td>0.0</td>\n",
       "      <td>0.0</td>\n",
       "      <td>0.0</td>\n",
       "      <td>0.0</td>\n",
       "      <td>0.0</td>\n",
       "      <td>0.0</td>\n",
       "      <td>...</td>\n",
       "      <td>0.0</td>\n",
       "      <td>0.0</td>\n",
       "      <td>0.0</td>\n",
       "      <td>0.0</td>\n",
       "      <td>0.0</td>\n",
       "      <td>0.0</td>\n",
       "      <td>0.0</td>\n",
       "      <td>0.0</td>\n",
       "      <td>0.0</td>\n",
       "      <td>0.0</td>\n",
       "    </tr>\n",
       "    <tr>\n",
       "      <th>4</th>\n",
       "      <td>0.0</td>\n",
       "      <td>0.0</td>\n",
       "      <td>0.0</td>\n",
       "      <td>0.0</td>\n",
       "      <td>0.0</td>\n",
       "      <td>0.0</td>\n",
       "      <td>0.0</td>\n",
       "      <td>0.0</td>\n",
       "      <td>0.0</td>\n",
       "      <td>0.0</td>\n",
       "      <td>...</td>\n",
       "      <td>0.0</td>\n",
       "      <td>0.0</td>\n",
       "      <td>0.0</td>\n",
       "      <td>0.0</td>\n",
       "      <td>0.0</td>\n",
       "      <td>0.0</td>\n",
       "      <td>0.0</td>\n",
       "      <td>0.0</td>\n",
       "      <td>0.0</td>\n",
       "      <td>0.0</td>\n",
       "    </tr>\n",
       "    <tr>\n",
       "      <th>5</th>\n",
       "      <td>3.0</td>\n",
       "      <td>0.0</td>\n",
       "      <td>0.0</td>\n",
       "      <td>0.0</td>\n",
       "      <td>0.0</td>\n",
       "      <td>0.0</td>\n",
       "      <td>0.0</td>\n",
       "      <td>0.0</td>\n",
       "      <td>0.0</td>\n",
       "      <td>0.0</td>\n",
       "      <td>...</td>\n",
       "      <td>0.0</td>\n",
       "      <td>0.0</td>\n",
       "      <td>0.0</td>\n",
       "      <td>0.0</td>\n",
       "      <td>0.0</td>\n",
       "      <td>0.0</td>\n",
       "      <td>0.0</td>\n",
       "      <td>0.0</td>\n",
       "      <td>0.0</td>\n",
       "      <td>0.0</td>\n",
       "    </tr>\n",
       "    <tr>\n",
       "      <th>...</th>\n",
       "      <td>...</td>\n",
       "      <td>...</td>\n",
       "      <td>...</td>\n",
       "      <td>...</td>\n",
       "      <td>...</td>\n",
       "      <td>...</td>\n",
       "      <td>...</td>\n",
       "      <td>...</td>\n",
       "      <td>...</td>\n",
       "      <td>...</td>\n",
       "      <td>...</td>\n",
       "      <td>...</td>\n",
       "      <td>...</td>\n",
       "      <td>...</td>\n",
       "      <td>...</td>\n",
       "      <td>...</td>\n",
       "      <td>...</td>\n",
       "      <td>...</td>\n",
       "      <td>...</td>\n",
       "      <td>...</td>\n",
       "      <td>...</td>\n",
       "    </tr>\n",
       "    <tr>\n",
       "      <th>606</th>\n",
       "      <td>0.0</td>\n",
       "      <td>0.0</td>\n",
       "      <td>0.0</td>\n",
       "      <td>0.0</td>\n",
       "      <td>0.0</td>\n",
       "      <td>0.0</td>\n",
       "      <td>0.0</td>\n",
       "      <td>0.0</td>\n",
       "      <td>0.0</td>\n",
       "      <td>0.0</td>\n",
       "      <td>...</td>\n",
       "      <td>0.0</td>\n",
       "      <td>0.0</td>\n",
       "      <td>0.0</td>\n",
       "      <td>0.0</td>\n",
       "      <td>0.0</td>\n",
       "      <td>0.0</td>\n",
       "      <td>0.0</td>\n",
       "      <td>0.0</td>\n",
       "      <td>0.0</td>\n",
       "      <td>0.0</td>\n",
       "    </tr>\n",
       "    <tr>\n",
       "      <th>607</th>\n",
       "      <td>3.0</td>\n",
       "      <td>0.0</td>\n",
       "      <td>0.0</td>\n",
       "      <td>0.0</td>\n",
       "      <td>0.0</td>\n",
       "      <td>0.0</td>\n",
       "      <td>0.0</td>\n",
       "      <td>0.0</td>\n",
       "      <td>0.0</td>\n",
       "      <td>0.0</td>\n",
       "      <td>...</td>\n",
       "      <td>0.0</td>\n",
       "      <td>0.0</td>\n",
       "      <td>0.0</td>\n",
       "      <td>0.0</td>\n",
       "      <td>0.0</td>\n",
       "      <td>0.0</td>\n",
       "      <td>0.0</td>\n",
       "      <td>0.0</td>\n",
       "      <td>0.0</td>\n",
       "      <td>0.0</td>\n",
       "    </tr>\n",
       "    <tr>\n",
       "      <th>608</th>\n",
       "      <td>0.0</td>\n",
       "      <td>-1.0</td>\n",
       "      <td>-1.0</td>\n",
       "      <td>0.0</td>\n",
       "      <td>0.0</td>\n",
       "      <td>0.0</td>\n",
       "      <td>0.0</td>\n",
       "      <td>0.0</td>\n",
       "      <td>0.0</td>\n",
       "      <td>3.0</td>\n",
       "      <td>...</td>\n",
       "      <td>0.0</td>\n",
       "      <td>0.0</td>\n",
       "      <td>0.0</td>\n",
       "      <td>0.0</td>\n",
       "      <td>0.0</td>\n",
       "      <td>0.0</td>\n",
       "      <td>0.0</td>\n",
       "      <td>0.0</td>\n",
       "      <td>0.0</td>\n",
       "      <td>0.0</td>\n",
       "    </tr>\n",
       "    <tr>\n",
       "      <th>609</th>\n",
       "      <td>1.0</td>\n",
       "      <td>0.0</td>\n",
       "      <td>0.0</td>\n",
       "      <td>0.0</td>\n",
       "      <td>0.0</td>\n",
       "      <td>0.0</td>\n",
       "      <td>0.0</td>\n",
       "      <td>0.0</td>\n",
       "      <td>0.0</td>\n",
       "      <td>3.0</td>\n",
       "      <td>...</td>\n",
       "      <td>0.0</td>\n",
       "      <td>0.0</td>\n",
       "      <td>0.0</td>\n",
       "      <td>0.0</td>\n",
       "      <td>0.0</td>\n",
       "      <td>0.0</td>\n",
       "      <td>0.0</td>\n",
       "      <td>0.0</td>\n",
       "      <td>0.0</td>\n",
       "      <td>0.0</td>\n",
       "    </tr>\n",
       "    <tr>\n",
       "      <th>610</th>\n",
       "      <td>5.0</td>\n",
       "      <td>0.0</td>\n",
       "      <td>0.0</td>\n",
       "      <td>0.0</td>\n",
       "      <td>0.0</td>\n",
       "      <td>5.0</td>\n",
       "      <td>0.0</td>\n",
       "      <td>0.0</td>\n",
       "      <td>0.0</td>\n",
       "      <td>0.0</td>\n",
       "      <td>...</td>\n",
       "      <td>0.0</td>\n",
       "      <td>0.0</td>\n",
       "      <td>0.0</td>\n",
       "      <td>0.0</td>\n",
       "      <td>0.0</td>\n",
       "      <td>0.0</td>\n",
       "      <td>0.0</td>\n",
       "      <td>0.0</td>\n",
       "      <td>0.0</td>\n",
       "      <td>0.0</td>\n",
       "    </tr>\n",
       "  </tbody>\n",
       "</table>\n",
       "<p>610 rows × 9724 columns</p>\n",
       "</div>"
      ],
      "text/plain": [
       "movieId  1       2       3       4       5       6       7       8       \\\n",
       "userId                                                                    \n",
       "1           3.0     0.0     3.0     0.0     0.0     3.0     0.0     0.0   \n",
       "2           0.0     0.0     0.0     0.0     0.0     0.0     0.0     0.0   \n",
       "3           0.0     0.0     0.0     0.0     0.0     0.0     0.0     0.0   \n",
       "4           0.0     0.0     0.0     0.0     0.0     0.0     0.0     0.0   \n",
       "5           3.0     0.0     0.0     0.0     0.0     0.0     0.0     0.0   \n",
       "...         ...     ...     ...     ...     ...     ...     ...     ...   \n",
       "606         0.0     0.0     0.0     0.0     0.0     0.0     0.0     0.0   \n",
       "607         3.0     0.0     0.0     0.0     0.0     0.0     0.0     0.0   \n",
       "608         0.0    -1.0    -1.0     0.0     0.0     0.0     0.0     0.0   \n",
       "609         1.0     0.0     0.0     0.0     0.0     0.0     0.0     0.0   \n",
       "610         5.0     0.0     0.0     0.0     0.0     5.0     0.0     0.0   \n",
       "\n",
       "movieId  9       10      ...  193565  193567  193571  193573  193579  193581  \\\n",
       "userId                   ...                                                   \n",
       "1           0.0     0.0  ...     0.0     0.0     0.0     0.0     0.0     0.0   \n",
       "2           0.0     0.0  ...     0.0     0.0     0.0     0.0     0.0     0.0   \n",
       "3           0.0     0.0  ...     0.0     0.0     0.0     0.0     0.0     0.0   \n",
       "4           0.0     0.0  ...     0.0     0.0     0.0     0.0     0.0     0.0   \n",
       "5           0.0     0.0  ...     0.0     0.0     0.0     0.0     0.0     0.0   \n",
       "...         ...     ...  ...     ...     ...     ...     ...     ...     ...   \n",
       "606         0.0     0.0  ...     0.0     0.0     0.0     0.0     0.0     0.0   \n",
       "607         0.0     0.0  ...     0.0     0.0     0.0     0.0     0.0     0.0   \n",
       "608         0.0     3.0  ...     0.0     0.0     0.0     0.0     0.0     0.0   \n",
       "609         0.0     3.0  ...     0.0     0.0     0.0     0.0     0.0     0.0   \n",
       "610         0.0     0.0  ...     0.0     0.0     0.0     0.0     0.0     0.0   \n",
       "\n",
       "movieId  193583  193585  193587  193609  \n",
       "userId                                   \n",
       "1           0.0     0.0     0.0     0.0  \n",
       "2           0.0     0.0     0.0     0.0  \n",
       "3           0.0     0.0     0.0     0.0  \n",
       "4           0.0     0.0     0.0     0.0  \n",
       "5           0.0     0.0     0.0     0.0  \n",
       "...         ...     ...     ...     ...  \n",
       "606         0.0     0.0     0.0     0.0  \n",
       "607         0.0     0.0     0.0     0.0  \n",
       "608         0.0     0.0     0.0     0.0  \n",
       "609         0.0     0.0     0.0     0.0  \n",
       "610         0.0     0.0     0.0     0.0  \n",
       "\n",
       "[610 rows x 9724 columns]"
      ]
     },
     "execution_count": 105,
     "metadata": {},
     "output_type": "execute_result"
    }
   ],
   "source": [
    "matrix_original = (df.pivot(index='userId', columns='movieId', values='rating')* 2).fillna(5) -5\n",
    "matrix_original"
   ]
  },
  {
   "cell_type": "code",
   "execution_count": 5,
   "id": "12561736",
   "metadata": {
    "ExecuteTime": {
     "end_time": "2023-01-26T07:09:18.135680Z",
     "start_time": "2023-01-26T07:09:18.098855Z"
    }
   },
   "outputs": [
    {
     "data": {
      "text/html": [
       "<div>\n",
       "<style scoped>\n",
       "    .dataframe tbody tr th:only-of-type {\n",
       "        vertical-align: middle;\n",
       "    }\n",
       "\n",
       "    .dataframe tbody tr th {\n",
       "        vertical-align: top;\n",
       "    }\n",
       "\n",
       "    .dataframe thead th {\n",
       "        text-align: right;\n",
       "    }\n",
       "</style>\n",
       "<table border=\"1\" class=\"dataframe\">\n",
       "  <thead>\n",
       "    <tr style=\"text-align: right;\">\n",
       "      <th>movieId</th>\n",
       "      <th>1</th>\n",
       "      <th>2</th>\n",
       "      <th>3</th>\n",
       "      <th>4</th>\n",
       "      <th>5</th>\n",
       "      <th>6</th>\n",
       "      <th>7</th>\n",
       "      <th>8</th>\n",
       "      <th>9</th>\n",
       "      <th>10</th>\n",
       "      <th>...</th>\n",
       "      <th>193565</th>\n",
       "      <th>193567</th>\n",
       "      <th>193571</th>\n",
       "      <th>193573</th>\n",
       "      <th>193579</th>\n",
       "      <th>193581</th>\n",
       "      <th>193583</th>\n",
       "      <th>193585</th>\n",
       "      <th>193587</th>\n",
       "      <th>193609</th>\n",
       "    </tr>\n",
       "    <tr>\n",
       "      <th>userId</th>\n",
       "      <th></th>\n",
       "      <th></th>\n",
       "      <th></th>\n",
       "      <th></th>\n",
       "      <th></th>\n",
       "      <th></th>\n",
       "      <th></th>\n",
       "      <th></th>\n",
       "      <th></th>\n",
       "      <th></th>\n",
       "      <th></th>\n",
       "      <th></th>\n",
       "      <th></th>\n",
       "      <th></th>\n",
       "      <th></th>\n",
       "      <th></th>\n",
       "      <th></th>\n",
       "      <th></th>\n",
       "      <th></th>\n",
       "      <th></th>\n",
       "      <th></th>\n",
       "    </tr>\n",
       "  </thead>\n",
       "  <tbody>\n",
       "    <tr>\n",
       "      <th>1</th>\n",
       "      <td>8.0</td>\n",
       "      <td>0.0</td>\n",
       "      <td>8.0</td>\n",
       "      <td>0.0</td>\n",
       "      <td>0.0</td>\n",
       "      <td>8.0</td>\n",
       "      <td>0.0</td>\n",
       "      <td>0.0</td>\n",
       "      <td>0.0</td>\n",
       "      <td>0.0</td>\n",
       "      <td>...</td>\n",
       "      <td>0.0</td>\n",
       "      <td>0.0</td>\n",
       "      <td>0.0</td>\n",
       "      <td>0.0</td>\n",
       "      <td>0.0</td>\n",
       "      <td>0.0</td>\n",
       "      <td>0.0</td>\n",
       "      <td>0.0</td>\n",
       "      <td>0.0</td>\n",
       "      <td>0.0</td>\n",
       "    </tr>\n",
       "    <tr>\n",
       "      <th>2</th>\n",
       "      <td>0.0</td>\n",
       "      <td>0.0</td>\n",
       "      <td>0.0</td>\n",
       "      <td>0.0</td>\n",
       "      <td>0.0</td>\n",
       "      <td>0.0</td>\n",
       "      <td>0.0</td>\n",
       "      <td>0.0</td>\n",
       "      <td>0.0</td>\n",
       "      <td>0.0</td>\n",
       "      <td>...</td>\n",
       "      <td>0.0</td>\n",
       "      <td>0.0</td>\n",
       "      <td>0.0</td>\n",
       "      <td>0.0</td>\n",
       "      <td>0.0</td>\n",
       "      <td>0.0</td>\n",
       "      <td>0.0</td>\n",
       "      <td>0.0</td>\n",
       "      <td>0.0</td>\n",
       "      <td>0.0</td>\n",
       "    </tr>\n",
       "    <tr>\n",
       "      <th>3</th>\n",
       "      <td>0.0</td>\n",
       "      <td>0.0</td>\n",
       "      <td>0.0</td>\n",
       "      <td>0.0</td>\n",
       "      <td>0.0</td>\n",
       "      <td>0.0</td>\n",
       "      <td>0.0</td>\n",
       "      <td>0.0</td>\n",
       "      <td>0.0</td>\n",
       "      <td>0.0</td>\n",
       "      <td>...</td>\n",
       "      <td>0.0</td>\n",
       "      <td>0.0</td>\n",
       "      <td>0.0</td>\n",
       "      <td>0.0</td>\n",
       "      <td>0.0</td>\n",
       "      <td>0.0</td>\n",
       "      <td>0.0</td>\n",
       "      <td>0.0</td>\n",
       "      <td>0.0</td>\n",
       "      <td>0.0</td>\n",
       "    </tr>\n",
       "    <tr>\n",
       "      <th>4</th>\n",
       "      <td>0.0</td>\n",
       "      <td>0.0</td>\n",
       "      <td>0.0</td>\n",
       "      <td>0.0</td>\n",
       "      <td>0.0</td>\n",
       "      <td>0.0</td>\n",
       "      <td>0.0</td>\n",
       "      <td>0.0</td>\n",
       "      <td>0.0</td>\n",
       "      <td>0.0</td>\n",
       "      <td>...</td>\n",
       "      <td>0.0</td>\n",
       "      <td>0.0</td>\n",
       "      <td>0.0</td>\n",
       "      <td>0.0</td>\n",
       "      <td>0.0</td>\n",
       "      <td>0.0</td>\n",
       "      <td>0.0</td>\n",
       "      <td>0.0</td>\n",
       "      <td>0.0</td>\n",
       "      <td>0.0</td>\n",
       "    </tr>\n",
       "    <tr>\n",
       "      <th>5</th>\n",
       "      <td>8.0</td>\n",
       "      <td>0.0</td>\n",
       "      <td>0.0</td>\n",
       "      <td>0.0</td>\n",
       "      <td>0.0</td>\n",
       "      <td>0.0</td>\n",
       "      <td>0.0</td>\n",
       "      <td>0.0</td>\n",
       "      <td>0.0</td>\n",
       "      <td>0.0</td>\n",
       "      <td>...</td>\n",
       "      <td>0.0</td>\n",
       "      <td>0.0</td>\n",
       "      <td>0.0</td>\n",
       "      <td>0.0</td>\n",
       "      <td>0.0</td>\n",
       "      <td>0.0</td>\n",
       "      <td>0.0</td>\n",
       "      <td>0.0</td>\n",
       "      <td>0.0</td>\n",
       "      <td>0.0</td>\n",
       "    </tr>\n",
       "    <tr>\n",
       "      <th>...</th>\n",
       "      <td>...</td>\n",
       "      <td>...</td>\n",
       "      <td>...</td>\n",
       "      <td>...</td>\n",
       "      <td>...</td>\n",
       "      <td>...</td>\n",
       "      <td>...</td>\n",
       "      <td>...</td>\n",
       "      <td>...</td>\n",
       "      <td>...</td>\n",
       "      <td>...</td>\n",
       "      <td>...</td>\n",
       "      <td>...</td>\n",
       "      <td>...</td>\n",
       "      <td>...</td>\n",
       "      <td>...</td>\n",
       "      <td>...</td>\n",
       "      <td>...</td>\n",
       "      <td>...</td>\n",
       "      <td>...</td>\n",
       "      <td>...</td>\n",
       "    </tr>\n",
       "    <tr>\n",
       "      <th>606</th>\n",
       "      <td>5.0</td>\n",
       "      <td>0.0</td>\n",
       "      <td>0.0</td>\n",
       "      <td>0.0</td>\n",
       "      <td>0.0</td>\n",
       "      <td>0.0</td>\n",
       "      <td>5.0</td>\n",
       "      <td>0.0</td>\n",
       "      <td>0.0</td>\n",
       "      <td>0.0</td>\n",
       "      <td>...</td>\n",
       "      <td>0.0</td>\n",
       "      <td>0.0</td>\n",
       "      <td>0.0</td>\n",
       "      <td>0.0</td>\n",
       "      <td>0.0</td>\n",
       "      <td>0.0</td>\n",
       "      <td>0.0</td>\n",
       "      <td>0.0</td>\n",
       "      <td>0.0</td>\n",
       "      <td>0.0</td>\n",
       "    </tr>\n",
       "    <tr>\n",
       "      <th>607</th>\n",
       "      <td>8.0</td>\n",
       "      <td>0.0</td>\n",
       "      <td>0.0</td>\n",
       "      <td>0.0</td>\n",
       "      <td>0.0</td>\n",
       "      <td>0.0</td>\n",
       "      <td>0.0</td>\n",
       "      <td>0.0</td>\n",
       "      <td>0.0</td>\n",
       "      <td>0.0</td>\n",
       "      <td>...</td>\n",
       "      <td>0.0</td>\n",
       "      <td>0.0</td>\n",
       "      <td>0.0</td>\n",
       "      <td>0.0</td>\n",
       "      <td>0.0</td>\n",
       "      <td>0.0</td>\n",
       "      <td>0.0</td>\n",
       "      <td>0.0</td>\n",
       "      <td>0.0</td>\n",
       "      <td>0.0</td>\n",
       "    </tr>\n",
       "    <tr>\n",
       "      <th>608</th>\n",
       "      <td>5.0</td>\n",
       "      <td>4.0</td>\n",
       "      <td>4.0</td>\n",
       "      <td>0.0</td>\n",
       "      <td>0.0</td>\n",
       "      <td>0.0</td>\n",
       "      <td>0.0</td>\n",
       "      <td>0.0</td>\n",
       "      <td>0.0</td>\n",
       "      <td>8.0</td>\n",
       "      <td>...</td>\n",
       "      <td>0.0</td>\n",
       "      <td>0.0</td>\n",
       "      <td>0.0</td>\n",
       "      <td>0.0</td>\n",
       "      <td>0.0</td>\n",
       "      <td>0.0</td>\n",
       "      <td>0.0</td>\n",
       "      <td>0.0</td>\n",
       "      <td>0.0</td>\n",
       "      <td>0.0</td>\n",
       "    </tr>\n",
       "    <tr>\n",
       "      <th>609</th>\n",
       "      <td>6.0</td>\n",
       "      <td>0.0</td>\n",
       "      <td>0.0</td>\n",
       "      <td>0.0</td>\n",
       "      <td>0.0</td>\n",
       "      <td>0.0</td>\n",
       "      <td>0.0</td>\n",
       "      <td>0.0</td>\n",
       "      <td>0.0</td>\n",
       "      <td>8.0</td>\n",
       "      <td>...</td>\n",
       "      <td>0.0</td>\n",
       "      <td>0.0</td>\n",
       "      <td>0.0</td>\n",
       "      <td>0.0</td>\n",
       "      <td>0.0</td>\n",
       "      <td>0.0</td>\n",
       "      <td>0.0</td>\n",
       "      <td>0.0</td>\n",
       "      <td>0.0</td>\n",
       "      <td>0.0</td>\n",
       "    </tr>\n",
       "    <tr>\n",
       "      <th>610</th>\n",
       "      <td>10.0</td>\n",
       "      <td>0.0</td>\n",
       "      <td>0.0</td>\n",
       "      <td>0.0</td>\n",
       "      <td>0.0</td>\n",
       "      <td>10.0</td>\n",
       "      <td>0.0</td>\n",
       "      <td>0.0</td>\n",
       "      <td>0.0</td>\n",
       "      <td>0.0</td>\n",
       "      <td>...</td>\n",
       "      <td>0.0</td>\n",
       "      <td>0.0</td>\n",
       "      <td>0.0</td>\n",
       "      <td>0.0</td>\n",
       "      <td>0.0</td>\n",
       "      <td>0.0</td>\n",
       "      <td>0.0</td>\n",
       "      <td>0.0</td>\n",
       "      <td>0.0</td>\n",
       "      <td>0.0</td>\n",
       "    </tr>\n",
       "  </tbody>\n",
       "</table>\n",
       "<p>610 rows × 9724 columns</p>\n",
       "</div>"
      ],
      "text/plain": [
       "movieId  1       2       3       4       5       6       7       8       \\\n",
       "userId                                                                    \n",
       "1           8.0     0.0     8.0     0.0     0.0     8.0     0.0     0.0   \n",
       "2           0.0     0.0     0.0     0.0     0.0     0.0     0.0     0.0   \n",
       "3           0.0     0.0     0.0     0.0     0.0     0.0     0.0     0.0   \n",
       "4           0.0     0.0     0.0     0.0     0.0     0.0     0.0     0.0   \n",
       "5           8.0     0.0     0.0     0.0     0.0     0.0     0.0     0.0   \n",
       "...         ...     ...     ...     ...     ...     ...     ...     ...   \n",
       "606         5.0     0.0     0.0     0.0     0.0     0.0     5.0     0.0   \n",
       "607         8.0     0.0     0.0     0.0     0.0     0.0     0.0     0.0   \n",
       "608         5.0     4.0     4.0     0.0     0.0     0.0     0.0     0.0   \n",
       "609         6.0     0.0     0.0     0.0     0.0     0.0     0.0     0.0   \n",
       "610        10.0     0.0     0.0     0.0     0.0    10.0     0.0     0.0   \n",
       "\n",
       "movieId  9       10      ...  193565  193567  193571  193573  193579  193581  \\\n",
       "userId                   ...                                                   \n",
       "1           0.0     0.0  ...     0.0     0.0     0.0     0.0     0.0     0.0   \n",
       "2           0.0     0.0  ...     0.0     0.0     0.0     0.0     0.0     0.0   \n",
       "3           0.0     0.0  ...     0.0     0.0     0.0     0.0     0.0     0.0   \n",
       "4           0.0     0.0  ...     0.0     0.0     0.0     0.0     0.0     0.0   \n",
       "5           0.0     0.0  ...     0.0     0.0     0.0     0.0     0.0     0.0   \n",
       "...         ...     ...  ...     ...     ...     ...     ...     ...     ...   \n",
       "606         0.0     0.0  ...     0.0     0.0     0.0     0.0     0.0     0.0   \n",
       "607         0.0     0.0  ...     0.0     0.0     0.0     0.0     0.0     0.0   \n",
       "608         0.0     8.0  ...     0.0     0.0     0.0     0.0     0.0     0.0   \n",
       "609         0.0     8.0  ...     0.0     0.0     0.0     0.0     0.0     0.0   \n",
       "610         0.0     0.0  ...     0.0     0.0     0.0     0.0     0.0     0.0   \n",
       "\n",
       "movieId  193583  193585  193587  193609  \n",
       "userId                                   \n",
       "1           0.0     0.0     0.0     0.0  \n",
       "2           0.0     0.0     0.0     0.0  \n",
       "3           0.0     0.0     0.0     0.0  \n",
       "4           0.0     0.0     0.0     0.0  \n",
       "5           0.0     0.0     0.0     0.0  \n",
       "...         ...     ...     ...     ...  \n",
       "606         0.0     0.0     0.0     0.0  \n",
       "607         0.0     0.0     0.0     0.0  \n",
       "608         0.0     0.0     0.0     0.0  \n",
       "609         0.0     0.0     0.0     0.0  \n",
       "610         0.0     0.0     0.0     0.0  \n",
       "\n",
       "[610 rows x 9724 columns]"
      ]
     },
     "execution_count": 5,
     "metadata": {},
     "output_type": "execute_result"
    }
   ],
   "source": [
    "matrix_original"
   ]
  },
  {
   "cell_type": "code",
   "execution_count": 106,
   "id": "b92161e8",
   "metadata": {
    "ExecuteTime": {
     "end_time": "2023-01-26T10:49:31.596654Z",
     "start_time": "2023-01-26T10:49:31.496017Z"
    }
   },
   "outputs": [],
   "source": [
    "from scipy.sparse import csr_matrix\n",
    "from sklearn.neighbors import NearestNeighbors\n",
    "matrix_original\n",
    "\n",
    "users_votes = df.groupby('userId')['rating'].agg('count')\n",
    "movies_votes = df.groupby('movieId')['rating'].agg('count')\n",
    "\n",
    "user_mask = users_votes[users_votes > 50].index\n",
    "movie_mask = movies_votes[movies_votes > 10].index\n",
    "\n",
    "user_item_matrix = matrix_original.loc[user_mask, movie_mask]\n",
    "\n",
    "csr_data = csr_matrix(user_item_matrix.values)\n",
    "\n",
    "# user_item_matrix = user_item_matrix.rename_axis(None, axis = 1).reset_index()"
   ]
  },
  {
   "cell_type": "code",
   "execution_count": 107,
   "id": "de5694c3",
   "metadata": {
    "ExecuteTime": {
     "end_time": "2023-01-26T10:49:32.720573Z",
     "start_time": "2023-01-26T10:49:32.679574Z"
    }
   },
   "outputs": [
    {
     "data": {
      "text/html": [
       "<div>\n",
       "<style scoped>\n",
       "    .dataframe tbody tr th:only-of-type {\n",
       "        vertical-align: middle;\n",
       "    }\n",
       "\n",
       "    .dataframe tbody tr th {\n",
       "        vertical-align: top;\n",
       "    }\n",
       "\n",
       "    .dataframe thead th {\n",
       "        text-align: right;\n",
       "    }\n",
       "</style>\n",
       "<table border=\"1\" class=\"dataframe\">\n",
       "  <thead>\n",
       "    <tr style=\"text-align: right;\">\n",
       "      <th>movieId</th>\n",
       "      <th>1</th>\n",
       "      <th>2</th>\n",
       "      <th>3</th>\n",
       "      <th>5</th>\n",
       "      <th>6</th>\n",
       "      <th>7</th>\n",
       "      <th>9</th>\n",
       "      <th>10</th>\n",
       "      <th>11</th>\n",
       "      <th>12</th>\n",
       "      <th>...</th>\n",
       "      <th>159093</th>\n",
       "      <th>164179</th>\n",
       "      <th>166528</th>\n",
       "      <th>168250</th>\n",
       "      <th>168252</th>\n",
       "      <th>174055</th>\n",
       "      <th>176371</th>\n",
       "      <th>177765</th>\n",
       "      <th>179819</th>\n",
       "      <th>187593</th>\n",
       "    </tr>\n",
       "    <tr>\n",
       "      <th>userId</th>\n",
       "      <th></th>\n",
       "      <th></th>\n",
       "      <th></th>\n",
       "      <th></th>\n",
       "      <th></th>\n",
       "      <th></th>\n",
       "      <th></th>\n",
       "      <th></th>\n",
       "      <th></th>\n",
       "      <th></th>\n",
       "      <th></th>\n",
       "      <th></th>\n",
       "      <th></th>\n",
       "      <th></th>\n",
       "      <th></th>\n",
       "      <th></th>\n",
       "      <th></th>\n",
       "      <th></th>\n",
       "      <th></th>\n",
       "      <th></th>\n",
       "      <th></th>\n",
       "    </tr>\n",
       "  </thead>\n",
       "  <tbody>\n",
       "    <tr>\n",
       "      <th>1</th>\n",
       "      <td>3.0</td>\n",
       "      <td>0.0</td>\n",
       "      <td>3.0</td>\n",
       "      <td>0.0</td>\n",
       "      <td>3.0</td>\n",
       "      <td>0.0</td>\n",
       "      <td>0.0</td>\n",
       "      <td>0.0</td>\n",
       "      <td>0.0</td>\n",
       "      <td>0.0</td>\n",
       "      <td>...</td>\n",
       "      <td>0.0</td>\n",
       "      <td>0.0</td>\n",
       "      <td>0.0</td>\n",
       "      <td>0.0</td>\n",
       "      <td>0.0</td>\n",
       "      <td>0.0</td>\n",
       "      <td>0.0</td>\n",
       "      <td>0.0</td>\n",
       "      <td>0.0</td>\n",
       "      <td>0.0</td>\n",
       "    </tr>\n",
       "    <tr>\n",
       "      <th>4</th>\n",
       "      <td>0.0</td>\n",
       "      <td>0.0</td>\n",
       "      <td>0.0</td>\n",
       "      <td>0.0</td>\n",
       "      <td>0.0</td>\n",
       "      <td>0.0</td>\n",
       "      <td>0.0</td>\n",
       "      <td>0.0</td>\n",
       "      <td>0.0</td>\n",
       "      <td>0.0</td>\n",
       "      <td>...</td>\n",
       "      <td>0.0</td>\n",
       "      <td>0.0</td>\n",
       "      <td>0.0</td>\n",
       "      <td>0.0</td>\n",
       "      <td>0.0</td>\n",
       "      <td>0.0</td>\n",
       "      <td>0.0</td>\n",
       "      <td>0.0</td>\n",
       "      <td>0.0</td>\n",
       "      <td>0.0</td>\n",
       "    </tr>\n",
       "    <tr>\n",
       "      <th>6</th>\n",
       "      <td>0.0</td>\n",
       "      <td>3.0</td>\n",
       "      <td>5.0</td>\n",
       "      <td>5.0</td>\n",
       "      <td>3.0</td>\n",
       "      <td>3.0</td>\n",
       "      <td>0.0</td>\n",
       "      <td>1.0</td>\n",
       "      <td>3.0</td>\n",
       "      <td>0.0</td>\n",
       "      <td>...</td>\n",
       "      <td>0.0</td>\n",
       "      <td>0.0</td>\n",
       "      <td>0.0</td>\n",
       "      <td>0.0</td>\n",
       "      <td>0.0</td>\n",
       "      <td>0.0</td>\n",
       "      <td>0.0</td>\n",
       "      <td>0.0</td>\n",
       "      <td>0.0</td>\n",
       "      <td>0.0</td>\n",
       "    </tr>\n",
       "    <tr>\n",
       "      <th>7</th>\n",
       "      <td>4.0</td>\n",
       "      <td>0.0</td>\n",
       "      <td>0.0</td>\n",
       "      <td>0.0</td>\n",
       "      <td>0.0</td>\n",
       "      <td>0.0</td>\n",
       "      <td>0.0</td>\n",
       "      <td>0.0</td>\n",
       "      <td>0.0</td>\n",
       "      <td>0.0</td>\n",
       "      <td>...</td>\n",
       "      <td>0.0</td>\n",
       "      <td>0.0</td>\n",
       "      <td>0.0</td>\n",
       "      <td>0.0</td>\n",
       "      <td>0.0</td>\n",
       "      <td>0.0</td>\n",
       "      <td>0.0</td>\n",
       "      <td>0.0</td>\n",
       "      <td>0.0</td>\n",
       "      <td>0.0</td>\n",
       "    </tr>\n",
       "    <tr>\n",
       "      <th>10</th>\n",
       "      <td>0.0</td>\n",
       "      <td>0.0</td>\n",
       "      <td>0.0</td>\n",
       "      <td>0.0</td>\n",
       "      <td>0.0</td>\n",
       "      <td>0.0</td>\n",
       "      <td>0.0</td>\n",
       "      <td>0.0</td>\n",
       "      <td>0.0</td>\n",
       "      <td>0.0</td>\n",
       "      <td>...</td>\n",
       "      <td>0.0</td>\n",
       "      <td>0.0</td>\n",
       "      <td>0.0</td>\n",
       "      <td>0.0</td>\n",
       "      <td>0.0</td>\n",
       "      <td>0.0</td>\n",
       "      <td>0.0</td>\n",
       "      <td>0.0</td>\n",
       "      <td>0.0</td>\n",
       "      <td>0.0</td>\n",
       "    </tr>\n",
       "    <tr>\n",
       "      <th>...</th>\n",
       "      <td>...</td>\n",
       "      <td>...</td>\n",
       "      <td>...</td>\n",
       "      <td>...</td>\n",
       "      <td>...</td>\n",
       "      <td>...</td>\n",
       "      <td>...</td>\n",
       "      <td>...</td>\n",
       "      <td>...</td>\n",
       "      <td>...</td>\n",
       "      <td>...</td>\n",
       "      <td>...</td>\n",
       "      <td>...</td>\n",
       "      <td>...</td>\n",
       "      <td>...</td>\n",
       "      <td>...</td>\n",
       "      <td>...</td>\n",
       "      <td>...</td>\n",
       "      <td>...</td>\n",
       "      <td>...</td>\n",
       "      <td>...</td>\n",
       "    </tr>\n",
       "    <tr>\n",
       "      <th>605</th>\n",
       "      <td>3.0</td>\n",
       "      <td>2.0</td>\n",
       "      <td>0.0</td>\n",
       "      <td>0.0</td>\n",
       "      <td>0.0</td>\n",
       "      <td>0.0</td>\n",
       "      <td>0.0</td>\n",
       "      <td>0.0</td>\n",
       "      <td>0.0</td>\n",
       "      <td>0.0</td>\n",
       "      <td>...</td>\n",
       "      <td>0.0</td>\n",
       "      <td>0.0</td>\n",
       "      <td>0.0</td>\n",
       "      <td>0.0</td>\n",
       "      <td>0.0</td>\n",
       "      <td>0.0</td>\n",
       "      <td>0.0</td>\n",
       "      <td>0.0</td>\n",
       "      <td>0.0</td>\n",
       "      <td>0.0</td>\n",
       "    </tr>\n",
       "    <tr>\n",
       "      <th>606</th>\n",
       "      <td>0.0</td>\n",
       "      <td>0.0</td>\n",
       "      <td>0.0</td>\n",
       "      <td>0.0</td>\n",
       "      <td>0.0</td>\n",
       "      <td>0.0</td>\n",
       "      <td>0.0</td>\n",
       "      <td>0.0</td>\n",
       "      <td>0.0</td>\n",
       "      <td>0.0</td>\n",
       "      <td>...</td>\n",
       "      <td>0.0</td>\n",
       "      <td>0.0</td>\n",
       "      <td>0.0</td>\n",
       "      <td>0.0</td>\n",
       "      <td>0.0</td>\n",
       "      <td>0.0</td>\n",
       "      <td>0.0</td>\n",
       "      <td>0.0</td>\n",
       "      <td>0.0</td>\n",
       "      <td>0.0</td>\n",
       "    </tr>\n",
       "    <tr>\n",
       "      <th>607</th>\n",
       "      <td>3.0</td>\n",
       "      <td>0.0</td>\n",
       "      <td>0.0</td>\n",
       "      <td>0.0</td>\n",
       "      <td>0.0</td>\n",
       "      <td>0.0</td>\n",
       "      <td>0.0</td>\n",
       "      <td>0.0</td>\n",
       "      <td>1.0</td>\n",
       "      <td>0.0</td>\n",
       "      <td>...</td>\n",
       "      <td>0.0</td>\n",
       "      <td>0.0</td>\n",
       "      <td>0.0</td>\n",
       "      <td>0.0</td>\n",
       "      <td>0.0</td>\n",
       "      <td>0.0</td>\n",
       "      <td>0.0</td>\n",
       "      <td>0.0</td>\n",
       "      <td>0.0</td>\n",
       "      <td>0.0</td>\n",
       "    </tr>\n",
       "    <tr>\n",
       "      <th>608</th>\n",
       "      <td>0.0</td>\n",
       "      <td>-1.0</td>\n",
       "      <td>-1.0</td>\n",
       "      <td>0.0</td>\n",
       "      <td>0.0</td>\n",
       "      <td>0.0</td>\n",
       "      <td>0.0</td>\n",
       "      <td>3.0</td>\n",
       "      <td>0.0</td>\n",
       "      <td>0.0</td>\n",
       "      <td>...</td>\n",
       "      <td>0.0</td>\n",
       "      <td>0.0</td>\n",
       "      <td>0.0</td>\n",
       "      <td>0.0</td>\n",
       "      <td>0.0</td>\n",
       "      <td>0.0</td>\n",
       "      <td>0.0</td>\n",
       "      <td>0.0</td>\n",
       "      <td>0.0</td>\n",
       "      <td>0.0</td>\n",
       "    </tr>\n",
       "    <tr>\n",
       "      <th>610</th>\n",
       "      <td>5.0</td>\n",
       "      <td>0.0</td>\n",
       "      <td>0.0</td>\n",
       "      <td>0.0</td>\n",
       "      <td>5.0</td>\n",
       "      <td>0.0</td>\n",
       "      <td>0.0</td>\n",
       "      <td>0.0</td>\n",
       "      <td>0.0</td>\n",
       "      <td>0.0</td>\n",
       "      <td>...</td>\n",
       "      <td>1.0</td>\n",
       "      <td>5.0</td>\n",
       "      <td>3.0</td>\n",
       "      <td>5.0</td>\n",
       "      <td>5.0</td>\n",
       "      <td>0.0</td>\n",
       "      <td>0.0</td>\n",
       "      <td>0.0</td>\n",
       "      <td>0.0</td>\n",
       "      <td>0.0</td>\n",
       "    </tr>\n",
       "  </tbody>\n",
       "</table>\n",
       "<p>378 rows × 2121 columns</p>\n",
       "</div>"
      ],
      "text/plain": [
       "movieId  1       2       3       5       6       7       9       10      \\\n",
       "userId                                                                    \n",
       "1           3.0     0.0     3.0     0.0     3.0     0.0     0.0     0.0   \n",
       "4           0.0     0.0     0.0     0.0     0.0     0.0     0.0     0.0   \n",
       "6           0.0     3.0     5.0     5.0     3.0     3.0     0.0     1.0   \n",
       "7           4.0     0.0     0.0     0.0     0.0     0.0     0.0     0.0   \n",
       "10          0.0     0.0     0.0     0.0     0.0     0.0     0.0     0.0   \n",
       "...         ...     ...     ...     ...     ...     ...     ...     ...   \n",
       "605         3.0     2.0     0.0     0.0     0.0     0.0     0.0     0.0   \n",
       "606         0.0     0.0     0.0     0.0     0.0     0.0     0.0     0.0   \n",
       "607         3.0     0.0     0.0     0.0     0.0     0.0     0.0     0.0   \n",
       "608         0.0    -1.0    -1.0     0.0     0.0     0.0     0.0     3.0   \n",
       "610         5.0     0.0     0.0     0.0     5.0     0.0     0.0     0.0   \n",
       "\n",
       "movieId  11      12      ...  159093  164179  166528  168250  168252  174055  \\\n",
       "userId                   ...                                                   \n",
       "1           0.0     0.0  ...     0.0     0.0     0.0     0.0     0.0     0.0   \n",
       "4           0.0     0.0  ...     0.0     0.0     0.0     0.0     0.0     0.0   \n",
       "6           3.0     0.0  ...     0.0     0.0     0.0     0.0     0.0     0.0   \n",
       "7           0.0     0.0  ...     0.0     0.0     0.0     0.0     0.0     0.0   \n",
       "10          0.0     0.0  ...     0.0     0.0     0.0     0.0     0.0     0.0   \n",
       "...         ...     ...  ...     ...     ...     ...     ...     ...     ...   \n",
       "605         0.0     0.0  ...     0.0     0.0     0.0     0.0     0.0     0.0   \n",
       "606         0.0     0.0  ...     0.0     0.0     0.0     0.0     0.0     0.0   \n",
       "607         1.0     0.0  ...     0.0     0.0     0.0     0.0     0.0     0.0   \n",
       "608         0.0     0.0  ...     0.0     0.0     0.0     0.0     0.0     0.0   \n",
       "610         0.0     0.0  ...     1.0     5.0     3.0     5.0     5.0     0.0   \n",
       "\n",
       "movieId  176371  177765  179819  187593  \n",
       "userId                                   \n",
       "1           0.0     0.0     0.0     0.0  \n",
       "4           0.0     0.0     0.0     0.0  \n",
       "6           0.0     0.0     0.0     0.0  \n",
       "7           0.0     0.0     0.0     0.0  \n",
       "10          0.0     0.0     0.0     0.0  \n",
       "...         ...     ...     ...     ...  \n",
       "605         0.0     0.0     0.0     0.0  \n",
       "606         0.0     0.0     0.0     0.0  \n",
       "607         0.0     0.0     0.0     0.0  \n",
       "608         0.0     0.0     0.0     0.0  \n",
       "610         0.0     0.0     0.0     0.0  \n",
       "\n",
       "[378 rows x 2121 columns]"
      ]
     },
     "execution_count": 107,
     "metadata": {},
     "output_type": "execute_result"
    }
   ],
   "source": [
    "user_item_matrix"
   ]
  },
  {
   "cell_type": "code",
   "execution_count": 108,
   "id": "ce9bdb7e",
   "metadata": {
    "ExecuteTime": {
     "end_time": "2023-01-26T10:49:43.446219Z",
     "start_time": "2023-01-26T10:49:43.370236Z"
    }
   },
   "outputs": [
    {
     "data": {
      "text/plain": [
       "NearestNeighbors(algorithm='brute', metric='cosine', n_jobs=-1, n_neighbors=20)"
      ]
     },
     "execution_count": 108,
     "metadata": {},
     "output_type": "execute_result"
    }
   ],
   "source": [
    "knn = NearestNeighbors(metric = 'cosine', algorithm = 'brute', n_neighbors = 20, n_jobs = -1)\n",
    "knn.fit(csr_data)"
   ]
  },
  {
   "cell_type": "code",
   "execution_count": 118,
   "id": "f0acc1b3",
   "metadata": {
    "ExecuteTime": {
     "end_time": "2023-01-26T10:52:28.023427Z",
     "start_time": "2023-01-26T10:52:27.818056Z"
    }
   },
   "outputs": [
    {
     "data": {
      "text/html": [
       "<div>\n",
       "<style scoped>\n",
       "    .dataframe tbody tr th:only-of-type {\n",
       "        vertical-align: middle;\n",
       "    }\n",
       "\n",
       "    .dataframe tbody tr th {\n",
       "        vertical-align: top;\n",
       "    }\n",
       "\n",
       "    .dataframe thead th {\n",
       "        text-align: right;\n",
       "    }\n",
       "</style>\n",
       "<table border=\"1\" class=\"dataframe\">\n",
       "  <thead>\n",
       "    <tr style=\"text-align: right;\">\n",
       "      <th>movieId</th>\n",
       "      <th>1</th>\n",
       "      <th>2</th>\n",
       "      <th>3</th>\n",
       "      <th>4</th>\n",
       "      <th>5</th>\n",
       "      <th>6</th>\n",
       "      <th>7</th>\n",
       "      <th>8</th>\n",
       "      <th>9</th>\n",
       "      <th>10</th>\n",
       "      <th>...</th>\n",
       "      <th>193565</th>\n",
       "      <th>193567</th>\n",
       "      <th>193571</th>\n",
       "      <th>193573</th>\n",
       "      <th>193579</th>\n",
       "      <th>193581</th>\n",
       "      <th>193583</th>\n",
       "      <th>193585</th>\n",
       "      <th>193587</th>\n",
       "      <th>193609</th>\n",
       "    </tr>\n",
       "  </thead>\n",
       "  <tbody>\n",
       "    <tr>\n",
       "      <th>0</th>\n",
       "      <td>0.0</td>\n",
       "      <td>0.0</td>\n",
       "      <td>5</td>\n",
       "      <td>0.0</td>\n",
       "      <td>5</td>\n",
       "      <td>0.0</td>\n",
       "      <td>0.0</td>\n",
       "      <td>0.0</td>\n",
       "      <td>0.0</td>\n",
       "      <td>3</td>\n",
       "      <td>...</td>\n",
       "      <td>0.0</td>\n",
       "      <td>0.0</td>\n",
       "      <td>0.0</td>\n",
       "      <td>0.0</td>\n",
       "      <td>0.0</td>\n",
       "      <td>0.0</td>\n",
       "      <td>0.0</td>\n",
       "      <td>0.0</td>\n",
       "      <td>0.0</td>\n",
       "      <td>0.0</td>\n",
       "    </tr>\n",
       "  </tbody>\n",
       "</table>\n",
       "<p>1 rows × 9724 columns</p>\n",
       "</div>"
      ],
      "text/plain": [
       "movieId  1       2       3       4       5       6       7       8       \\\n",
       "0           0.0     0.0       5     0.0       5     0.0     0.0     0.0   \n",
       "\n",
       "movieId  9       10      ...  193565  193567  193571  193573  193579  193581  \\\n",
       "0           0.0       3  ...     0.0     0.0     0.0     0.0     0.0     0.0   \n",
       "\n",
       "movieId  193583  193585  193587  193609  \n",
       "0           0.0     0.0     0.0     0.0  \n",
       "\n",
       "[1 rows x 9724 columns]"
      ]
     },
     "execution_count": 118,
     "metadata": {},
     "output_type": "execute_result"
    }
   ],
   "source": [
    "movieIds = [5,12,3,10]\n",
    "\n",
    "new_user_ratings = {key: value for key, value in zip(movieIds, [10,0,10,8])}\n",
    "\n",
    "user = pd.DataFrame([np.ones(matrix_original.columns.shape)* 5] , columns=matrix_original.columns)\n",
    "user.loc[:, new_user_ratings.keys()] = new_user_ratings.values()\n",
    "\n",
    "user - 5"
   ]
  },
  {
   "cell_type": "code",
   "execution_count": 10,
   "id": "7ffe39ed",
   "metadata": {
    "ExecuteTime": {
     "end_time": "2023-01-26T07:09:29.005044Z",
     "start_time": "2023-01-26T07:09:28.974918Z"
    }
   },
   "outputs": [],
   "source": [
    "new_user_item_matrix = user.loc[:, movie_mask]\n",
    "\n",
    "user_csr_data = csr_matrix(new_user_item_matrix.values)\n",
    "distances, indices = knn.kneighbors(user_csr_data, n_neighbors=25)\n",
    "closest_users_indexes = indices[0]"
   ]
  },
  {
   "cell_type": "code",
   "execution_count": 54,
   "id": "cee9d582",
   "metadata": {
    "ExecuteTime": {
     "end_time": "2023-01-26T08:29:15.383525Z",
     "start_time": "2023-01-26T08:29:15.364880Z"
    }
   },
   "outputs": [
    {
     "data": {
      "text/plain": [
       "array([88.        , 80.62126925, 68.27639584, 68.20470704, 67.11023606,\n",
       "       65.20190326, 62.16060752, 59.74443883, 59.72944644, 58.9503334 ,\n",
       "       56.66049118, 49.85629272, 48.28284541, 46.56965445, 43.95337517,\n",
       "       43.82881974, 38.60292162, 38.08908117, 36.22327959, 35.29080555,\n",
       "       34.88238597, 34.01796911, 33.7959227 , 33.74230284, 33.56220539])"
      ]
     },
     "execution_count": 54,
     "metadata": {},
     "output_type": "execute_result"
    }
   ],
   "source": [
    "(100 - distances[0]*100) /( 100 - distances[0]*100)[0] * 88"
   ]
  },
  {
   "cell_type": "code",
   "execution_count": 57,
   "id": "cd4f716d",
   "metadata": {
    "ExecuteTime": {
     "end_time": "2023-01-26T08:42:03.312662Z",
     "start_time": "2023-01-26T08:42:03.280003Z"
    }
   },
   "outputs": [
    {
     "data": {
      "text/plain": [
       "array([89.60074239, 85.64058628, 79.01510727, 78.97663197, 78.38923069,\n",
       "       77.36503072, 75.73277088, 74.43601599, 74.4279696 , 74.00982055,\n",
       "       72.78086492, 69.12905962, 68.2845923 , 67.36512473, 65.96097073,\n",
       "       65.89412197, 63.08938861, 62.81361105, 61.81223754, 61.31177982,\n",
       "       61.09258151, 60.62865   , 60.50947795, 60.48070024, 60.38404215])"
      ]
     },
     "execution_count": 57,
     "metadata": {},
     "output_type": "execute_result"
    }
   ],
   "source": [
    "def make_good(numbers, threshhold):\n",
    "    while numbers[0] < threshhold:\n",
    "        numbers = numbers*1.05 + numbers.mean()*0.05\n",
    "    return numbers\n",
    "\n",
    "make_good(100 - distances[0]*100, 88)"
   ]
  },
  {
   "cell_type": "code",
   "execution_count": 45,
   "id": "ea92d436",
   "metadata": {
    "ExecuteTime": {
     "end_time": "2023-01-26T08:21:26.230797Z",
     "start_time": "2023-01-26T08:21:26.221071Z"
    }
   },
   "outputs": [
    {
     "ename": "SyntaxError",
     "evalue": "invalid syntax (2559311858.py, line 1)",
     "output_type": "error",
     "traceback": [
      "\u001b[1;36m  Input \u001b[1;32mIn [45]\u001b[1;36m\u001b[0m\n\u001b[1;33m    88%\u001b[0m\n\u001b[1;37m       ^\u001b[0m\n\u001b[1;31mSyntaxError\u001b[0m\u001b[1;31m:\u001b[0m invalid syntax\n"
     ]
    }
   ],
   "source": [
    "92 - 81%\n",
    "64 - 52%"
   ]
  },
  {
   "cell_type": "code",
   "execution_count": 12,
   "id": "a6fb05a4",
   "metadata": {
    "ExecuteTime": {
     "end_time": "2023-01-26T05:56:59.349308Z",
     "start_time": "2023-01-26T05:56:59.337492Z"
    }
   },
   "outputs": [],
   "source": [
    "new_user_ratings = {'1': 4, '2': 3, '3': 5, '7': 4, '10': 6}"
   ]
  },
  {
   "cell_type": "code",
   "execution_count": 11,
   "id": "d9272247",
   "metadata": {
    "ExecuteTime": {
     "end_time": "2023-01-26T07:09:35.626145Z",
     "start_time": "2023-01-26T07:09:35.619783Z"
    }
   },
   "outputs": [
    {
     "data": {
      "text/plain": [
       "array([ 28, 291, 209,   2, 198, 359, 143, 284,  78,  66, 307,  35, 220,\n",
       "       106, 112, 150, 111,  21,  96,  80, 155,  88,  63,  27, 152],\n",
       "      dtype=int64)"
      ]
     },
     "execution_count": 11,
     "metadata": {},
     "output_type": "execute_result"
    }
   ],
   "source": [
    "# movie_ratings = new_user_ratings['movie_ratings']  # the key in the json data is 'movie_ratings'\n",
    "# new_u_rat = dict(movie_ratings)\n",
    "closest_users_indexes"
   ]
  },
  {
   "cell_type": "code",
   "execution_count": 48,
   "id": "6bfdf03e",
   "metadata": {
    "ExecuteTime": {
     "end_time": "2023-01-26T06:08:13.638714Z",
     "start_time": "2023-01-26T06:08:13.623093Z"
    }
   },
   "outputs": [
    {
     "data": {
      "text/plain": [
       "array([ 28, 291, 209,   2, 198, 359, 143, 284,  78, 307,  66,  35, 220,\n",
       "       106, 112, 150,  96, 111,  21,  80, 155,  88,  63,  27, 152],\n",
       "      dtype=int64)"
      ]
     },
     "execution_count": 48,
     "metadata": {},
     "output_type": "execute_result"
    }
   ],
   "source": [
    "closest_users_indexes"
   ]
  },
  {
   "cell_type": "code",
   "execution_count": null,
   "id": "fe25546f",
   "metadata": {
    "ExecuteTime": {
     "end_time": "2023-01-26T05:56:59.807924Z",
     "start_time": "2023-01-26T05:56:59.807924Z"
    }
   },
   "outputs": [],
   "source": [
    "list(new_u_rat.keys())"
   ]
  },
  {
   "cell_type": "code",
   "execution_count": null,
   "id": "e074c7e9",
   "metadata": {
    "ExecuteTime": {
     "end_time": "2023-01-26T05:56:59.809926Z",
     "start_time": "2023-01-26T05:56:59.809926Z"
    }
   },
   "outputs": [],
   "source": [
    "user.loc[:, new_u_rat.keys()]"
   ]
  },
  {
   "cell_type": "code",
   "execution_count": 14,
   "id": "250c4eeb",
   "metadata": {
    "ExecuteTime": {
     "end_time": "2023-01-26T07:10:10.301611Z",
     "start_time": "2023-01-26T07:10:10.251688Z"
    }
   },
   "outputs": [
    {
     "data": {
      "text/html": [
       "<div>\n",
       "<style scoped>\n",
       "    .dataframe tbody tr th:only-of-type {\n",
       "        vertical-align: middle;\n",
       "    }\n",
       "\n",
       "    .dataframe tbody tr th {\n",
       "        vertical-align: top;\n",
       "    }\n",
       "\n",
       "    .dataframe thead th {\n",
       "        text-align: right;\n",
       "    }\n",
       "</style>\n",
       "<table border=\"1\" class=\"dataframe\">\n",
       "  <thead>\n",
       "    <tr style=\"text-align: right;\">\n",
       "      <th>movieId</th>\n",
       "      <th>1</th>\n",
       "      <th>2</th>\n",
       "      <th>3</th>\n",
       "      <th>5</th>\n",
       "      <th>6</th>\n",
       "      <th>7</th>\n",
       "      <th>9</th>\n",
       "      <th>10</th>\n",
       "      <th>11</th>\n",
       "      <th>12</th>\n",
       "      <th>...</th>\n",
       "      <th>159093</th>\n",
       "      <th>164179</th>\n",
       "      <th>166528</th>\n",
       "      <th>168250</th>\n",
       "      <th>168252</th>\n",
       "      <th>174055</th>\n",
       "      <th>176371</th>\n",
       "      <th>177765</th>\n",
       "      <th>179819</th>\n",
       "      <th>187593</th>\n",
       "    </tr>\n",
       "    <tr>\n",
       "      <th>userId</th>\n",
       "      <th></th>\n",
       "      <th></th>\n",
       "      <th></th>\n",
       "      <th></th>\n",
       "      <th></th>\n",
       "      <th></th>\n",
       "      <th></th>\n",
       "      <th></th>\n",
       "      <th></th>\n",
       "      <th></th>\n",
       "      <th></th>\n",
       "      <th></th>\n",
       "      <th></th>\n",
       "      <th></th>\n",
       "      <th></th>\n",
       "      <th></th>\n",
       "      <th></th>\n",
       "      <th></th>\n",
       "      <th></th>\n",
       "      <th></th>\n",
       "      <th></th>\n",
       "    </tr>\n",
       "  </thead>\n",
       "  <tbody>\n",
       "    <tr>\n",
       "      <th>43</th>\n",
       "      <td>10.0</td>\n",
       "      <td>0.0</td>\n",
       "      <td>10.0</td>\n",
       "      <td>10.0</td>\n",
       "      <td>0.0</td>\n",
       "      <td>10.0</td>\n",
       "      <td>0.0</td>\n",
       "      <td>8.0</td>\n",
       "      <td>8.0</td>\n",
       "      <td>0.0</td>\n",
       "      <td>...</td>\n",
       "      <td>0.0</td>\n",
       "      <td>0.0</td>\n",
       "      <td>0.0</td>\n",
       "      <td>0.0</td>\n",
       "      <td>0.0</td>\n",
       "      <td>0.0</td>\n",
       "      <td>0.0</td>\n",
       "      <td>0.0</td>\n",
       "      <td>0.0</td>\n",
       "      <td>0.0</td>\n",
       "    </tr>\n",
       "    <tr>\n",
       "      <th>470</th>\n",
       "      <td>8.0</td>\n",
       "      <td>6.0</td>\n",
       "      <td>6.0</td>\n",
       "      <td>6.0</td>\n",
       "      <td>6.0</td>\n",
       "      <td>6.0</td>\n",
       "      <td>0.0</td>\n",
       "      <td>6.0</td>\n",
       "      <td>0.0</td>\n",
       "      <td>0.0</td>\n",
       "      <td>...</td>\n",
       "      <td>0.0</td>\n",
       "      <td>0.0</td>\n",
       "      <td>0.0</td>\n",
       "      <td>0.0</td>\n",
       "      <td>0.0</td>\n",
       "      <td>0.0</td>\n",
       "      <td>0.0</td>\n",
       "      <td>0.0</td>\n",
       "      <td>0.0</td>\n",
       "      <td>0.0</td>\n",
       "    </tr>\n",
       "    <tr>\n",
       "      <th>337</th>\n",
       "      <td>8.0</td>\n",
       "      <td>0.0</td>\n",
       "      <td>8.0</td>\n",
       "      <td>8.0</td>\n",
       "      <td>10.0</td>\n",
       "      <td>6.0</td>\n",
       "      <td>10.0</td>\n",
       "      <td>0.0</td>\n",
       "      <td>0.0</td>\n",
       "      <td>6.0</td>\n",
       "      <td>...</td>\n",
       "      <td>0.0</td>\n",
       "      <td>0.0</td>\n",
       "      <td>0.0</td>\n",
       "      <td>0.0</td>\n",
       "      <td>0.0</td>\n",
       "      <td>0.0</td>\n",
       "      <td>0.0</td>\n",
       "      <td>0.0</td>\n",
       "      <td>0.0</td>\n",
       "      <td>0.0</td>\n",
       "    </tr>\n",
       "    <tr>\n",
       "      <th>6</th>\n",
       "      <td>0.0</td>\n",
       "      <td>8.0</td>\n",
       "      <td>10.0</td>\n",
       "      <td>10.0</td>\n",
       "      <td>8.0</td>\n",
       "      <td>8.0</td>\n",
       "      <td>0.0</td>\n",
       "      <td>6.0</td>\n",
       "      <td>8.0</td>\n",
       "      <td>0.0</td>\n",
       "      <td>...</td>\n",
       "      <td>0.0</td>\n",
       "      <td>0.0</td>\n",
       "      <td>0.0</td>\n",
       "      <td>0.0</td>\n",
       "      <td>0.0</td>\n",
       "      <td>0.0</td>\n",
       "      <td>0.0</td>\n",
       "      <td>0.0</td>\n",
       "      <td>0.0</td>\n",
       "      <td>0.0</td>\n",
       "    </tr>\n",
       "    <tr>\n",
       "      <th>321</th>\n",
       "      <td>0.0</td>\n",
       "      <td>10.0</td>\n",
       "      <td>6.0</td>\n",
       "      <td>6.0</td>\n",
       "      <td>0.0</td>\n",
       "      <td>0.0</td>\n",
       "      <td>0.0</td>\n",
       "      <td>0.0</td>\n",
       "      <td>0.0</td>\n",
       "      <td>0.0</td>\n",
       "      <td>...</td>\n",
       "      <td>0.0</td>\n",
       "      <td>0.0</td>\n",
       "      <td>0.0</td>\n",
       "      <td>0.0</td>\n",
       "      <td>0.0</td>\n",
       "      <td>0.0</td>\n",
       "      <td>0.0</td>\n",
       "      <td>0.0</td>\n",
       "      <td>0.0</td>\n",
       "      <td>0.0</td>\n",
       "    </tr>\n",
       "    <tr>\n",
       "      <th>588</th>\n",
       "      <td>0.0</td>\n",
       "      <td>0.0</td>\n",
       "      <td>6.0</td>\n",
       "      <td>0.0</td>\n",
       "      <td>10.0</td>\n",
       "      <td>0.0</td>\n",
       "      <td>0.0</td>\n",
       "      <td>6.0</td>\n",
       "      <td>0.0</td>\n",
       "      <td>0.0</td>\n",
       "      <td>...</td>\n",
       "      <td>0.0</td>\n",
       "      <td>0.0</td>\n",
       "      <td>0.0</td>\n",
       "      <td>0.0</td>\n",
       "      <td>0.0</td>\n",
       "      <td>0.0</td>\n",
       "      <td>0.0</td>\n",
       "      <td>0.0</td>\n",
       "      <td>0.0</td>\n",
       "      <td>0.0</td>\n",
       "    </tr>\n",
       "    <tr>\n",
       "      <th>229</th>\n",
       "      <td>10.0</td>\n",
       "      <td>0.0</td>\n",
       "      <td>0.0</td>\n",
       "      <td>6.0</td>\n",
       "      <td>0.0</td>\n",
       "      <td>0.0</td>\n",
       "      <td>0.0</td>\n",
       "      <td>8.0</td>\n",
       "      <td>0.0</td>\n",
       "      <td>0.0</td>\n",
       "      <td>...</td>\n",
       "      <td>0.0</td>\n",
       "      <td>0.0</td>\n",
       "      <td>0.0</td>\n",
       "      <td>0.0</td>\n",
       "      <td>0.0</td>\n",
       "      <td>0.0</td>\n",
       "      <td>0.0</td>\n",
       "      <td>0.0</td>\n",
       "      <td>0.0</td>\n",
       "      <td>0.0</td>\n",
       "    </tr>\n",
       "    <tr>\n",
       "      <th>458</th>\n",
       "      <td>0.0</td>\n",
       "      <td>8.0</td>\n",
       "      <td>0.0</td>\n",
       "      <td>6.0</td>\n",
       "      <td>0.0</td>\n",
       "      <td>0.0</td>\n",
       "      <td>0.0</td>\n",
       "      <td>8.0</td>\n",
       "      <td>0.0</td>\n",
       "      <td>0.0</td>\n",
       "      <td>...</td>\n",
       "      <td>0.0</td>\n",
       "      <td>0.0</td>\n",
       "      <td>0.0</td>\n",
       "      <td>0.0</td>\n",
       "      <td>0.0</td>\n",
       "      <td>0.0</td>\n",
       "      <td>0.0</td>\n",
       "      <td>0.0</td>\n",
       "      <td>0.0</td>\n",
       "      <td>0.0</td>\n",
       "    </tr>\n",
       "    <tr>\n",
       "      <th>117</th>\n",
       "      <td>0.0</td>\n",
       "      <td>6.0</td>\n",
       "      <td>6.0</td>\n",
       "      <td>6.0</td>\n",
       "      <td>6.0</td>\n",
       "      <td>8.0</td>\n",
       "      <td>0.0</td>\n",
       "      <td>6.0</td>\n",
       "      <td>8.0</td>\n",
       "      <td>0.0</td>\n",
       "      <td>...</td>\n",
       "      <td>0.0</td>\n",
       "      <td>0.0</td>\n",
       "      <td>0.0</td>\n",
       "      <td>0.0</td>\n",
       "      <td>0.0</td>\n",
       "      <td>0.0</td>\n",
       "      <td>0.0</td>\n",
       "      <td>0.0</td>\n",
       "      <td>0.0</td>\n",
       "      <td>0.0</td>\n",
       "    </tr>\n",
       "    <tr>\n",
       "      <th>102</th>\n",
       "      <td>0.0</td>\n",
       "      <td>0.0</td>\n",
       "      <td>10.0</td>\n",
       "      <td>0.0</td>\n",
       "      <td>6.0</td>\n",
       "      <td>0.0</td>\n",
       "      <td>0.0</td>\n",
       "      <td>0.0</td>\n",
       "      <td>0.0</td>\n",
       "      <td>0.0</td>\n",
       "      <td>...</td>\n",
       "      <td>0.0</td>\n",
       "      <td>0.0</td>\n",
       "      <td>0.0</td>\n",
       "      <td>0.0</td>\n",
       "      <td>0.0</td>\n",
       "      <td>0.0</td>\n",
       "      <td>0.0</td>\n",
       "      <td>0.0</td>\n",
       "      <td>0.0</td>\n",
       "      <td>0.0</td>\n",
       "    </tr>\n",
       "    <tr>\n",
       "      <th>492</th>\n",
       "      <td>8.0</td>\n",
       "      <td>0.0</td>\n",
       "      <td>8.0</td>\n",
       "      <td>6.0</td>\n",
       "      <td>6.0</td>\n",
       "      <td>6.0</td>\n",
       "      <td>10.0</td>\n",
       "      <td>0.0</td>\n",
       "      <td>0.0</td>\n",
       "      <td>6.0</td>\n",
       "      <td>...</td>\n",
       "      <td>0.0</td>\n",
       "      <td>0.0</td>\n",
       "      <td>0.0</td>\n",
       "      <td>0.0</td>\n",
       "      <td>0.0</td>\n",
       "      <td>0.0</td>\n",
       "      <td>0.0</td>\n",
       "      <td>0.0</td>\n",
       "      <td>0.0</td>\n",
       "      <td>0.0</td>\n",
       "    </tr>\n",
       "    <tr>\n",
       "      <th>58</th>\n",
       "      <td>0.0</td>\n",
       "      <td>0.0</td>\n",
       "      <td>6.0</td>\n",
       "      <td>8.0</td>\n",
       "      <td>0.0</td>\n",
       "      <td>10.0</td>\n",
       "      <td>0.0</td>\n",
       "      <td>0.0</td>\n",
       "      <td>0.0</td>\n",
       "      <td>0.0</td>\n",
       "      <td>...</td>\n",
       "      <td>0.0</td>\n",
       "      <td>0.0</td>\n",
       "      <td>0.0</td>\n",
       "      <td>0.0</td>\n",
       "      <td>0.0</td>\n",
       "      <td>0.0</td>\n",
       "      <td>0.0</td>\n",
       "      <td>0.0</td>\n",
       "      <td>0.0</td>\n",
       "      <td>0.0</td>\n",
       "    </tr>\n",
       "    <tr>\n",
       "      <th>353</th>\n",
       "      <td>10.0</td>\n",
       "      <td>8.0</td>\n",
       "      <td>0.0</td>\n",
       "      <td>6.0</td>\n",
       "      <td>8.0</td>\n",
       "      <td>0.0</td>\n",
       "      <td>6.0</td>\n",
       "      <td>6.0</td>\n",
       "      <td>8.0</td>\n",
       "      <td>0.0</td>\n",
       "      <td>...</td>\n",
       "      <td>0.0</td>\n",
       "      <td>0.0</td>\n",
       "      <td>0.0</td>\n",
       "      <td>0.0</td>\n",
       "      <td>0.0</td>\n",
       "      <td>0.0</td>\n",
       "      <td>0.0</td>\n",
       "      <td>0.0</td>\n",
       "      <td>0.0</td>\n",
       "      <td>0.0</td>\n",
       "    </tr>\n",
       "    <tr>\n",
       "      <th>169</th>\n",
       "      <td>9.0</td>\n",
       "      <td>8.0</td>\n",
       "      <td>10.0</td>\n",
       "      <td>10.0</td>\n",
       "      <td>0.0</td>\n",
       "      <td>9.0</td>\n",
       "      <td>0.0</td>\n",
       "      <td>0.0</td>\n",
       "      <td>8.0</td>\n",
       "      <td>0.0</td>\n",
       "      <td>...</td>\n",
       "      <td>0.0</td>\n",
       "      <td>0.0</td>\n",
       "      <td>0.0</td>\n",
       "      <td>0.0</td>\n",
       "      <td>0.0</td>\n",
       "      <td>0.0</td>\n",
       "      <td>0.0</td>\n",
       "      <td>0.0</td>\n",
       "      <td>0.0</td>\n",
       "      <td>0.0</td>\n",
       "    </tr>\n",
       "    <tr>\n",
       "      <th>181</th>\n",
       "      <td>0.0</td>\n",
       "      <td>0.0</td>\n",
       "      <td>0.0</td>\n",
       "      <td>6.0</td>\n",
       "      <td>6.0</td>\n",
       "      <td>6.0</td>\n",
       "      <td>0.0</td>\n",
       "      <td>4.0</td>\n",
       "      <td>10.0</td>\n",
       "      <td>0.0</td>\n",
       "      <td>...</td>\n",
       "      <td>0.0</td>\n",
       "      <td>0.0</td>\n",
       "      <td>0.0</td>\n",
       "      <td>0.0</td>\n",
       "      <td>0.0</td>\n",
       "      <td>0.0</td>\n",
       "      <td>0.0</td>\n",
       "      <td>0.0</td>\n",
       "      <td>0.0</td>\n",
       "      <td>0.0</td>\n",
       "    </tr>\n",
       "    <tr>\n",
       "      <th>240</th>\n",
       "      <td>10.0</td>\n",
       "      <td>10.0</td>\n",
       "      <td>8.0</td>\n",
       "      <td>0.0</td>\n",
       "      <td>0.0</td>\n",
       "      <td>0.0</td>\n",
       "      <td>0.0</td>\n",
       "      <td>6.0</td>\n",
       "      <td>0.0</td>\n",
       "      <td>0.0</td>\n",
       "      <td>...</td>\n",
       "      <td>0.0</td>\n",
       "      <td>0.0</td>\n",
       "      <td>0.0</td>\n",
       "      <td>0.0</td>\n",
       "      <td>0.0</td>\n",
       "      <td>0.0</td>\n",
       "      <td>0.0</td>\n",
       "      <td>0.0</td>\n",
       "      <td>0.0</td>\n",
       "      <td>0.0</td>\n",
       "    </tr>\n",
       "    <tr>\n",
       "      <th>179</th>\n",
       "      <td>8.0</td>\n",
       "      <td>0.0</td>\n",
       "      <td>8.0</td>\n",
       "      <td>0.0</td>\n",
       "      <td>0.0</td>\n",
       "      <td>6.0</td>\n",
       "      <td>6.0</td>\n",
       "      <td>0.0</td>\n",
       "      <td>0.0</td>\n",
       "      <td>0.0</td>\n",
       "      <td>...</td>\n",
       "      <td>0.0</td>\n",
       "      <td>0.0</td>\n",
       "      <td>0.0</td>\n",
       "      <td>0.0</td>\n",
       "      <td>0.0</td>\n",
       "      <td>0.0</td>\n",
       "      <td>0.0</td>\n",
       "      <td>0.0</td>\n",
       "      <td>0.0</td>\n",
       "      <td>0.0</td>\n",
       "    </tr>\n",
       "    <tr>\n",
       "      <th>34</th>\n",
       "      <td>0.0</td>\n",
       "      <td>0.0</td>\n",
       "      <td>0.0</td>\n",
       "      <td>0.0</td>\n",
       "      <td>0.0</td>\n",
       "      <td>0.0</td>\n",
       "      <td>0.0</td>\n",
       "      <td>10.0</td>\n",
       "      <td>0.0</td>\n",
       "      <td>0.0</td>\n",
       "      <td>...</td>\n",
       "      <td>0.0</td>\n",
       "      <td>0.0</td>\n",
       "      <td>0.0</td>\n",
       "      <td>0.0</td>\n",
       "      <td>0.0</td>\n",
       "      <td>0.0</td>\n",
       "      <td>0.0</td>\n",
       "      <td>0.0</td>\n",
       "      <td>0.0</td>\n",
       "      <td>0.0</td>\n",
       "    </tr>\n",
       "    <tr>\n",
       "      <th>151</th>\n",
       "      <td>10.0</td>\n",
       "      <td>0.0</td>\n",
       "      <td>6.0</td>\n",
       "      <td>0.0</td>\n",
       "      <td>0.0</td>\n",
       "      <td>0.0</td>\n",
       "      <td>8.0</td>\n",
       "      <td>0.0</td>\n",
       "      <td>0.0</td>\n",
       "      <td>6.0</td>\n",
       "      <td>...</td>\n",
       "      <td>0.0</td>\n",
       "      <td>0.0</td>\n",
       "      <td>0.0</td>\n",
       "      <td>0.0</td>\n",
       "      <td>0.0</td>\n",
       "      <td>0.0</td>\n",
       "      <td>0.0</td>\n",
       "      <td>0.0</td>\n",
       "      <td>0.0</td>\n",
       "      <td>0.0</td>\n",
       "    </tr>\n",
       "    <tr>\n",
       "      <th>121</th>\n",
       "      <td>8.0</td>\n",
       "      <td>0.0</td>\n",
       "      <td>0.0</td>\n",
       "      <td>6.0</td>\n",
       "      <td>10.0</td>\n",
       "      <td>0.0</td>\n",
       "      <td>0.0</td>\n",
       "      <td>0.0</td>\n",
       "      <td>8.0</td>\n",
       "      <td>0.0</td>\n",
       "      <td>...</td>\n",
       "      <td>0.0</td>\n",
       "      <td>0.0</td>\n",
       "      <td>0.0</td>\n",
       "      <td>0.0</td>\n",
       "      <td>0.0</td>\n",
       "      <td>0.0</td>\n",
       "      <td>0.0</td>\n",
       "      <td>0.0</td>\n",
       "      <td>0.0</td>\n",
       "      <td>0.0</td>\n",
       "    </tr>\n",
       "    <tr>\n",
       "      <th>248</th>\n",
       "      <td>0.0</td>\n",
       "      <td>0.0</td>\n",
       "      <td>0.0</td>\n",
       "      <td>0.0</td>\n",
       "      <td>0.0</td>\n",
       "      <td>0.0</td>\n",
       "      <td>0.0</td>\n",
       "      <td>7.0</td>\n",
       "      <td>0.0</td>\n",
       "      <td>0.0</td>\n",
       "      <td>...</td>\n",
       "      <td>9.0</td>\n",
       "      <td>6.0</td>\n",
       "      <td>6.0</td>\n",
       "      <td>0.0</td>\n",
       "      <td>0.0</td>\n",
       "      <td>0.0</td>\n",
       "      <td>5.0</td>\n",
       "      <td>4.0</td>\n",
       "      <td>0.0</td>\n",
       "      <td>9.0</td>\n",
       "    </tr>\n",
       "    <tr>\n",
       "      <th>136</th>\n",
       "      <td>0.0</td>\n",
       "      <td>0.0</td>\n",
       "      <td>0.0</td>\n",
       "      <td>0.0</td>\n",
       "      <td>0.0</td>\n",
       "      <td>0.0</td>\n",
       "      <td>0.0</td>\n",
       "      <td>10.0</td>\n",
       "      <td>0.0</td>\n",
       "      <td>0.0</td>\n",
       "      <td>...</td>\n",
       "      <td>0.0</td>\n",
       "      <td>0.0</td>\n",
       "      <td>0.0</td>\n",
       "      <td>0.0</td>\n",
       "      <td>0.0</td>\n",
       "      <td>0.0</td>\n",
       "      <td>0.0</td>\n",
       "      <td>0.0</td>\n",
       "      <td>0.0</td>\n",
       "      <td>0.0</td>\n",
       "    </tr>\n",
       "    <tr>\n",
       "      <th>99</th>\n",
       "      <td>0.0</td>\n",
       "      <td>0.0</td>\n",
       "      <td>0.0</td>\n",
       "      <td>0.0</td>\n",
       "      <td>0.0</td>\n",
       "      <td>0.0</td>\n",
       "      <td>0.0</td>\n",
       "      <td>8.0</td>\n",
       "      <td>0.0</td>\n",
       "      <td>0.0</td>\n",
       "      <td>...</td>\n",
       "      <td>0.0</td>\n",
       "      <td>0.0</td>\n",
       "      <td>0.0</td>\n",
       "      <td>0.0</td>\n",
       "      <td>0.0</td>\n",
       "      <td>0.0</td>\n",
       "      <td>0.0</td>\n",
       "      <td>0.0</td>\n",
       "      <td>0.0</td>\n",
       "      <td>0.0</td>\n",
       "    </tr>\n",
       "    <tr>\n",
       "      <th>42</th>\n",
       "      <td>0.0</td>\n",
       "      <td>0.0</td>\n",
       "      <td>8.0</td>\n",
       "      <td>0.0</td>\n",
       "      <td>0.0</td>\n",
       "      <td>6.0</td>\n",
       "      <td>0.0</td>\n",
       "      <td>10.0</td>\n",
       "      <td>10.0</td>\n",
       "      <td>0.0</td>\n",
       "      <td>...</td>\n",
       "      <td>0.0</td>\n",
       "      <td>0.0</td>\n",
       "      <td>0.0</td>\n",
       "      <td>0.0</td>\n",
       "      <td>0.0</td>\n",
       "      <td>0.0</td>\n",
       "      <td>0.0</td>\n",
       "      <td>0.0</td>\n",
       "      <td>0.0</td>\n",
       "      <td>0.0</td>\n",
       "    </tr>\n",
       "    <tr>\n",
       "      <th>244</th>\n",
       "      <td>0.0</td>\n",
       "      <td>0.0</td>\n",
       "      <td>0.0</td>\n",
       "      <td>0.0</td>\n",
       "      <td>10.0</td>\n",
       "      <td>0.0</td>\n",
       "      <td>0.0</td>\n",
       "      <td>10.0</td>\n",
       "      <td>0.0</td>\n",
       "      <td>0.0</td>\n",
       "      <td>...</td>\n",
       "      <td>0.0</td>\n",
       "      <td>0.0</td>\n",
       "      <td>0.0</td>\n",
       "      <td>0.0</td>\n",
       "      <td>0.0</td>\n",
       "      <td>0.0</td>\n",
       "      <td>0.0</td>\n",
       "      <td>0.0</td>\n",
       "      <td>0.0</td>\n",
       "      <td>0.0</td>\n",
       "    </tr>\n",
       "  </tbody>\n",
       "</table>\n",
       "<p>25 rows × 2121 columns</p>\n",
       "</div>"
      ],
      "text/plain": [
       "movieId  1       2       3       5       6       7       9       10      \\\n",
       "userId                                                                    \n",
       "43         10.0     0.0    10.0    10.0     0.0    10.0     0.0     8.0   \n",
       "470         8.0     6.0     6.0     6.0     6.0     6.0     0.0     6.0   \n",
       "337         8.0     0.0     8.0     8.0    10.0     6.0    10.0     0.0   \n",
       "6           0.0     8.0    10.0    10.0     8.0     8.0     0.0     6.0   \n",
       "321         0.0    10.0     6.0     6.0     0.0     0.0     0.0     0.0   \n",
       "588         0.0     0.0     6.0     0.0    10.0     0.0     0.0     6.0   \n",
       "229        10.0     0.0     0.0     6.0     0.0     0.0     0.0     8.0   \n",
       "458         0.0     8.0     0.0     6.0     0.0     0.0     0.0     8.0   \n",
       "117         0.0     6.0     6.0     6.0     6.0     8.0     0.0     6.0   \n",
       "102         0.0     0.0    10.0     0.0     6.0     0.0     0.0     0.0   \n",
       "492         8.0     0.0     8.0     6.0     6.0     6.0    10.0     0.0   \n",
       "58          0.0     0.0     6.0     8.0     0.0    10.0     0.0     0.0   \n",
       "353        10.0     8.0     0.0     6.0     8.0     0.0     6.0     6.0   \n",
       "169         9.0     8.0    10.0    10.0     0.0     9.0     0.0     0.0   \n",
       "181         0.0     0.0     0.0     6.0     6.0     6.0     0.0     4.0   \n",
       "240        10.0    10.0     8.0     0.0     0.0     0.0     0.0     6.0   \n",
       "179         8.0     0.0     8.0     0.0     0.0     6.0     6.0     0.0   \n",
       "34          0.0     0.0     0.0     0.0     0.0     0.0     0.0    10.0   \n",
       "151        10.0     0.0     6.0     0.0     0.0     0.0     8.0     0.0   \n",
       "121         8.0     0.0     0.0     6.0    10.0     0.0     0.0     0.0   \n",
       "248         0.0     0.0     0.0     0.0     0.0     0.0     0.0     7.0   \n",
       "136         0.0     0.0     0.0     0.0     0.0     0.0     0.0    10.0   \n",
       "99          0.0     0.0     0.0     0.0     0.0     0.0     0.0     8.0   \n",
       "42          0.0     0.0     8.0     0.0     0.0     6.0     0.0    10.0   \n",
       "244         0.0     0.0     0.0     0.0    10.0     0.0     0.0    10.0   \n",
       "\n",
       "movieId  11      12      ...  159093  164179  166528  168250  168252  174055  \\\n",
       "userId                   ...                                                   \n",
       "43          8.0     0.0  ...     0.0     0.0     0.0     0.0     0.0     0.0   \n",
       "470         0.0     0.0  ...     0.0     0.0     0.0     0.0     0.0     0.0   \n",
       "337         0.0     6.0  ...     0.0     0.0     0.0     0.0     0.0     0.0   \n",
       "6           8.0     0.0  ...     0.0     0.0     0.0     0.0     0.0     0.0   \n",
       "321         0.0     0.0  ...     0.0     0.0     0.0     0.0     0.0     0.0   \n",
       "588         0.0     0.0  ...     0.0     0.0     0.0     0.0     0.0     0.0   \n",
       "229         0.0     0.0  ...     0.0     0.0     0.0     0.0     0.0     0.0   \n",
       "458         0.0     0.0  ...     0.0     0.0     0.0     0.0     0.0     0.0   \n",
       "117         8.0     0.0  ...     0.0     0.0     0.0     0.0     0.0     0.0   \n",
       "102         0.0     0.0  ...     0.0     0.0     0.0     0.0     0.0     0.0   \n",
       "492         0.0     6.0  ...     0.0     0.0     0.0     0.0     0.0     0.0   \n",
       "58          0.0     0.0  ...     0.0     0.0     0.0     0.0     0.0     0.0   \n",
       "353         8.0     0.0  ...     0.0     0.0     0.0     0.0     0.0     0.0   \n",
       "169         8.0     0.0  ...     0.0     0.0     0.0     0.0     0.0     0.0   \n",
       "181        10.0     0.0  ...     0.0     0.0     0.0     0.0     0.0     0.0   \n",
       "240         0.0     0.0  ...     0.0     0.0     0.0     0.0     0.0     0.0   \n",
       "179         0.0     0.0  ...     0.0     0.0     0.0     0.0     0.0     0.0   \n",
       "34          0.0     0.0  ...     0.0     0.0     0.0     0.0     0.0     0.0   \n",
       "151         0.0     6.0  ...     0.0     0.0     0.0     0.0     0.0     0.0   \n",
       "121         8.0     0.0  ...     0.0     0.0     0.0     0.0     0.0     0.0   \n",
       "248         0.0     0.0  ...     9.0     6.0     6.0     0.0     0.0     0.0   \n",
       "136         0.0     0.0  ...     0.0     0.0     0.0     0.0     0.0     0.0   \n",
       "99          0.0     0.0  ...     0.0     0.0     0.0     0.0     0.0     0.0   \n",
       "42         10.0     0.0  ...     0.0     0.0     0.0     0.0     0.0     0.0   \n",
       "244         0.0     0.0  ...     0.0     0.0     0.0     0.0     0.0     0.0   \n",
       "\n",
       "movieId  176371  177765  179819  187593  \n",
       "userId                                   \n",
       "43          0.0     0.0     0.0     0.0  \n",
       "470         0.0     0.0     0.0     0.0  \n",
       "337         0.0     0.0     0.0     0.0  \n",
       "6           0.0     0.0     0.0     0.0  \n",
       "321         0.0     0.0     0.0     0.0  \n",
       "588         0.0     0.0     0.0     0.0  \n",
       "229         0.0     0.0     0.0     0.0  \n",
       "458         0.0     0.0     0.0     0.0  \n",
       "117         0.0     0.0     0.0     0.0  \n",
       "102         0.0     0.0     0.0     0.0  \n",
       "492         0.0     0.0     0.0     0.0  \n",
       "58          0.0     0.0     0.0     0.0  \n",
       "353         0.0     0.0     0.0     0.0  \n",
       "169         0.0     0.0     0.0     0.0  \n",
       "181         0.0     0.0     0.0     0.0  \n",
       "240         0.0     0.0     0.0     0.0  \n",
       "179         0.0     0.0     0.0     0.0  \n",
       "34          0.0     0.0     0.0     0.0  \n",
       "151         0.0     0.0     0.0     0.0  \n",
       "121         0.0     0.0     0.0     0.0  \n",
       "248         5.0     4.0     0.0     9.0  \n",
       "136         0.0     0.0     0.0     0.0  \n",
       "99          0.0     0.0     0.0     0.0  \n",
       "42          0.0     0.0     0.0     0.0  \n",
       "244         0.0     0.0     0.0     0.0  \n",
       "\n",
       "[25 rows x 2121 columns]"
      ]
     },
     "execution_count": 14,
     "metadata": {},
     "output_type": "execute_result"
    }
   ],
   "source": [
    "original_indexes = user_item_matrix.index[closest_users_indexes]\n",
    "closest_original = user_item_matrix.loc[original_indexes]\n",
    "closest_original#.loc[:, new_user_ratings.keys()]"
   ]
  },
  {
   "cell_type": "code",
   "execution_count": 12,
   "id": "9512363c",
   "metadata": {
    "ExecuteTime": {
     "end_time": "2023-01-26T07:09:46.158444Z",
     "start_time": "2023-01-26T07:09:46.144452Z"
    }
   },
   "outputs": [
    {
     "data": {
      "text/html": [
       "<div>\n",
       "<style scoped>\n",
       "    .dataframe tbody tr th:only-of-type {\n",
       "        vertical-align: middle;\n",
       "    }\n",
       "\n",
       "    .dataframe tbody tr th {\n",
       "        vertical-align: top;\n",
       "    }\n",
       "\n",
       "    .dataframe thead th {\n",
       "        text-align: right;\n",
       "    }\n",
       "</style>\n",
       "<table border=\"1\" class=\"dataframe\">\n",
       "  <thead>\n",
       "    <tr style=\"text-align: right;\">\n",
       "      <th>movieId</th>\n",
       "      <th>5</th>\n",
       "      <th>12</th>\n",
       "      <th>3</th>\n",
       "      <th>10</th>\n",
       "    </tr>\n",
       "  </thead>\n",
       "  <tbody>\n",
       "    <tr>\n",
       "      <th>0</th>\n",
       "      <td>10</td>\n",
       "      <td>0</td>\n",
       "      <td>10</td>\n",
       "      <td>8</td>\n",
       "    </tr>\n",
       "  </tbody>\n",
       "</table>\n",
       "</div>"
      ],
      "text/plain": [
       "movieId  5   12  3   10\n",
       "0        10   0  10   8"
      ]
     },
     "execution_count": 12,
     "metadata": {},
     "output_type": "execute_result"
    }
   ],
   "source": [
    "user.loc[:, new_user_ratings.keys()]"
   ]
  },
  {
   "cell_type": "code",
   "execution_count": 15,
   "id": "51a57273",
   "metadata": {
    "ExecuteTime": {
     "end_time": "2023-01-26T07:10:13.623370Z",
     "start_time": "2023-01-26T07:10:13.597374Z"
    }
   },
   "outputs": [
    {
     "data": {
      "text/html": [
       "<div>\n",
       "<style scoped>\n",
       "    .dataframe tbody tr th:only-of-type {\n",
       "        vertical-align: middle;\n",
       "    }\n",
       "\n",
       "    .dataframe tbody tr th {\n",
       "        vertical-align: top;\n",
       "    }\n",
       "\n",
       "    .dataframe thead th {\n",
       "        text-align: right;\n",
       "    }\n",
       "</style>\n",
       "<table border=\"1\" class=\"dataframe\">\n",
       "  <thead>\n",
       "    <tr style=\"text-align: right;\">\n",
       "      <th>movieId</th>\n",
       "      <th>5</th>\n",
       "      <th>12</th>\n",
       "      <th>3</th>\n",
       "      <th>10</th>\n",
       "    </tr>\n",
       "    <tr>\n",
       "      <th>userId</th>\n",
       "      <th></th>\n",
       "      <th></th>\n",
       "      <th></th>\n",
       "      <th></th>\n",
       "    </tr>\n",
       "  </thead>\n",
       "  <tbody>\n",
       "    <tr>\n",
       "      <th>43</th>\n",
       "      <td>10.0</td>\n",
       "      <td>0.0</td>\n",
       "      <td>10.0</td>\n",
       "      <td>8.0</td>\n",
       "    </tr>\n",
       "    <tr>\n",
       "      <th>470</th>\n",
       "      <td>6.0</td>\n",
       "      <td>0.0</td>\n",
       "      <td>6.0</td>\n",
       "      <td>6.0</td>\n",
       "    </tr>\n",
       "    <tr>\n",
       "      <th>337</th>\n",
       "      <td>8.0</td>\n",
       "      <td>6.0</td>\n",
       "      <td>8.0</td>\n",
       "      <td>0.0</td>\n",
       "    </tr>\n",
       "    <tr>\n",
       "      <th>6</th>\n",
       "      <td>10.0</td>\n",
       "      <td>0.0</td>\n",
       "      <td>10.0</td>\n",
       "      <td>6.0</td>\n",
       "    </tr>\n",
       "    <tr>\n",
       "      <th>321</th>\n",
       "      <td>6.0</td>\n",
       "      <td>0.0</td>\n",
       "      <td>6.0</td>\n",
       "      <td>0.0</td>\n",
       "    </tr>\n",
       "    <tr>\n",
       "      <th>588</th>\n",
       "      <td>0.0</td>\n",
       "      <td>0.0</td>\n",
       "      <td>6.0</td>\n",
       "      <td>6.0</td>\n",
       "    </tr>\n",
       "    <tr>\n",
       "      <th>229</th>\n",
       "      <td>6.0</td>\n",
       "      <td>0.0</td>\n",
       "      <td>0.0</td>\n",
       "      <td>8.0</td>\n",
       "    </tr>\n",
       "    <tr>\n",
       "      <th>458</th>\n",
       "      <td>6.0</td>\n",
       "      <td>0.0</td>\n",
       "      <td>0.0</td>\n",
       "      <td>8.0</td>\n",
       "    </tr>\n",
       "    <tr>\n",
       "      <th>117</th>\n",
       "      <td>6.0</td>\n",
       "      <td>0.0</td>\n",
       "      <td>6.0</td>\n",
       "      <td>6.0</td>\n",
       "    </tr>\n",
       "    <tr>\n",
       "      <th>102</th>\n",
       "      <td>0.0</td>\n",
       "      <td>0.0</td>\n",
       "      <td>10.0</td>\n",
       "      <td>0.0</td>\n",
       "    </tr>\n",
       "    <tr>\n",
       "      <th>492</th>\n",
       "      <td>6.0</td>\n",
       "      <td>6.0</td>\n",
       "      <td>8.0</td>\n",
       "      <td>0.0</td>\n",
       "    </tr>\n",
       "    <tr>\n",
       "      <th>58</th>\n",
       "      <td>8.0</td>\n",
       "      <td>0.0</td>\n",
       "      <td>6.0</td>\n",
       "      <td>0.0</td>\n",
       "    </tr>\n",
       "    <tr>\n",
       "      <th>353</th>\n",
       "      <td>6.0</td>\n",
       "      <td>0.0</td>\n",
       "      <td>0.0</td>\n",
       "      <td>6.0</td>\n",
       "    </tr>\n",
       "    <tr>\n",
       "      <th>169</th>\n",
       "      <td>10.0</td>\n",
       "      <td>0.0</td>\n",
       "      <td>10.0</td>\n",
       "      <td>0.0</td>\n",
       "    </tr>\n",
       "    <tr>\n",
       "      <th>181</th>\n",
       "      <td>6.0</td>\n",
       "      <td>0.0</td>\n",
       "      <td>0.0</td>\n",
       "      <td>4.0</td>\n",
       "    </tr>\n",
       "    <tr>\n",
       "      <th>240</th>\n",
       "      <td>0.0</td>\n",
       "      <td>0.0</td>\n",
       "      <td>8.0</td>\n",
       "      <td>6.0</td>\n",
       "    </tr>\n",
       "    <tr>\n",
       "      <th>179</th>\n",
       "      <td>0.0</td>\n",
       "      <td>0.0</td>\n",
       "      <td>8.0</td>\n",
       "      <td>0.0</td>\n",
       "    </tr>\n",
       "    <tr>\n",
       "      <th>34</th>\n",
       "      <td>0.0</td>\n",
       "      <td>0.0</td>\n",
       "      <td>0.0</td>\n",
       "      <td>10.0</td>\n",
       "    </tr>\n",
       "    <tr>\n",
       "      <th>151</th>\n",
       "      <td>0.0</td>\n",
       "      <td>6.0</td>\n",
       "      <td>6.0</td>\n",
       "      <td>0.0</td>\n",
       "    </tr>\n",
       "    <tr>\n",
       "      <th>121</th>\n",
       "      <td>6.0</td>\n",
       "      <td>0.0</td>\n",
       "      <td>0.0</td>\n",
       "      <td>0.0</td>\n",
       "    </tr>\n",
       "    <tr>\n",
       "      <th>248</th>\n",
       "      <td>0.0</td>\n",
       "      <td>0.0</td>\n",
       "      <td>0.0</td>\n",
       "      <td>7.0</td>\n",
       "    </tr>\n",
       "    <tr>\n",
       "      <th>136</th>\n",
       "      <td>0.0</td>\n",
       "      <td>0.0</td>\n",
       "      <td>0.0</td>\n",
       "      <td>10.0</td>\n",
       "    </tr>\n",
       "    <tr>\n",
       "      <th>99</th>\n",
       "      <td>0.0</td>\n",
       "      <td>0.0</td>\n",
       "      <td>0.0</td>\n",
       "      <td>8.0</td>\n",
       "    </tr>\n",
       "    <tr>\n",
       "      <th>42</th>\n",
       "      <td>0.0</td>\n",
       "      <td>0.0</td>\n",
       "      <td>8.0</td>\n",
       "      <td>10.0</td>\n",
       "    </tr>\n",
       "    <tr>\n",
       "      <th>244</th>\n",
       "      <td>0.0</td>\n",
       "      <td>0.0</td>\n",
       "      <td>0.0</td>\n",
       "      <td>10.0</td>\n",
       "    </tr>\n",
       "  </tbody>\n",
       "</table>\n",
       "</div>"
      ],
      "text/plain": [
       "movieId    5    12    3     10\n",
       "userId                        \n",
       "43       10.0  0.0  10.0   8.0\n",
       "470       6.0  0.0   6.0   6.0\n",
       "337       8.0  6.0   8.0   0.0\n",
       "6        10.0  0.0  10.0   6.0\n",
       "321       6.0  0.0   6.0   0.0\n",
       "588       0.0  0.0   6.0   6.0\n",
       "229       6.0  0.0   0.0   8.0\n",
       "458       6.0  0.0   0.0   8.0\n",
       "117       6.0  0.0   6.0   6.0\n",
       "102       0.0  0.0  10.0   0.0\n",
       "492       6.0  6.0   8.0   0.0\n",
       "58        8.0  0.0   6.0   0.0\n",
       "353       6.0  0.0   0.0   6.0\n",
       "169      10.0  0.0  10.0   0.0\n",
       "181       6.0  0.0   0.0   4.0\n",
       "240       0.0  0.0   8.0   6.0\n",
       "179       0.0  0.0   8.0   0.0\n",
       "34        0.0  0.0   0.0  10.0\n",
       "151       0.0  6.0   6.0   0.0\n",
       "121       6.0  0.0   0.0   0.0\n",
       "248       0.0  0.0   0.0   7.0\n",
       "136       0.0  0.0   0.0  10.0\n",
       "99        0.0  0.0   0.0   8.0\n",
       "42        0.0  0.0   8.0  10.0\n",
       "244       0.0  0.0   0.0  10.0"
      ]
     },
     "execution_count": 15,
     "metadata": {},
     "output_type": "execute_result"
    }
   ],
   "source": [
    "closest_original.loc[:, new_user_ratings.keys()]"
   ]
  },
  {
   "cell_type": "code",
   "execution_count": 32,
   "id": "936071f0",
   "metadata": {
    "ExecuteTime": {
     "end_time": "2023-01-26T07:23:33.149481Z",
     "start_time": "2023-01-26T07:23:33.138027Z"
    }
   },
   "outputs": [
    {
     "data": {
      "text/plain": [
       "userId\n",
       "43     1.000000\n",
       "470    0.744937\n",
       "337    0.318946\n",
       "6      0.943559\n",
       "321    0.470388\n",
       "588    0.383349\n",
       "229    0.413167\n",
       "458    0.413167\n",
       "117    0.744937\n",
       "102    0.165457\n",
       "492    0.238851\n",
       "58     0.511640\n",
       "353    0.383349\n",
       "169    0.670388\n",
       "181    0.335207\n",
       "240    0.437786\n",
       "179    0.115457\n",
       "34    -0.057634\n",
       "151   -0.264806\n",
       "121    0.065457\n",
       "248   -0.032634\n",
       "136   -0.057634\n",
       "99    -0.007634\n",
       "42     0.418946\n",
       "244   -0.057634\n",
       "dtype: float64"
      ]
     },
     "execution_count": 32,
     "metadata": {},
     "output_type": "execute_result"
    }
   ],
   "source": [
    "from sklearn.metrics.pairwise import cosine_similarity\n",
    "cosine_similarity(closest_original.loc[:, new_user_ratings.keys()], user.loc[:, new_user_ratings.keys()]).flatten() - np.mean(np.abs(closest_original.loc[:, new_user_ratings.keys()].subtract(user.loc[:, new_user_ratings.keys()].iloc[0,:]))/10,axis=1)"
   ]
  },
  {
   "cell_type": "code",
   "execution_count": null,
   "id": "eb000921",
   "metadata": {},
   "outputs": [],
   "source": []
  },
  {
   "cell_type": "code",
   "execution_count": 29,
   "id": "1124361d",
   "metadata": {
    "ExecuteTime": {
     "end_time": "2023-01-26T07:21:31.719432Z",
     "start_time": "2023-01-26T07:21:31.703317Z"
    }
   },
   "outputs": [
    {
     "data": {
      "text/plain": [
       "userId\n",
       "43     0.000\n",
       "470    0.250\n",
       "337    0.450\n",
       "6      0.050\n",
       "321    0.400\n",
       "588    0.400\n",
       "229    0.350\n",
       "458    0.350\n",
       "117    0.250\n",
       "102    0.450\n",
       "492    0.500\n",
       "58     0.350\n",
       "353    0.400\n",
       "169    0.200\n",
       "181    0.450\n",
       "240    0.350\n",
       "179    0.500\n",
       "34     0.550\n",
       "151    0.700\n",
       "121    0.550\n",
       "248    0.525\n",
       "136    0.550\n",
       "99     0.500\n",
       "42     0.350\n",
       "244    0.550\n",
       "dtype: float64"
      ]
     },
     "execution_count": 29,
     "metadata": {},
     "output_type": "execute_result"
    }
   ],
   "source": [
    "np.mean(np.abs(closest_original.loc[:, new_user_ratings.keys()].subtract(user.loc[:, new_user_ratings.keys()].iloc[0,:]))/10,axis=1)"
   ]
  },
  {
   "cell_type": "code",
   "execution_count": 35,
   "id": "aff2014a",
   "metadata": {
    "ExecuteTime": {
     "end_time": "2023-01-26T07:25:57.241223Z",
     "start_time": "2023-01-26T07:25:57.223681Z"
    }
   },
   "outputs": [
    {
     "data": {
      "text/html": [
       "<div>\n",
       "<style scoped>\n",
       "    .dataframe tbody tr th:only-of-type {\n",
       "        vertical-align: middle;\n",
       "    }\n",
       "\n",
       "    .dataframe tbody tr th {\n",
       "        vertical-align: top;\n",
       "    }\n",
       "\n",
       "    .dataframe thead th {\n",
       "        text-align: right;\n",
       "    }\n",
       "</style>\n",
       "<table border=\"1\" class=\"dataframe\">\n",
       "  <thead>\n",
       "    <tr style=\"text-align: right;\">\n",
       "      <th>movieId</th>\n",
       "      <th>5</th>\n",
       "      <th>12</th>\n",
       "      <th>3</th>\n",
       "      <th>10</th>\n",
       "    </tr>\n",
       "    <tr>\n",
       "      <th>userId</th>\n",
       "      <th></th>\n",
       "      <th></th>\n",
       "      <th></th>\n",
       "      <th></th>\n",
       "    </tr>\n",
       "  </thead>\n",
       "  <tbody>\n",
       "    <tr>\n",
       "      <th>43</th>\n",
       "      <td>0.0</td>\n",
       "      <td>0.0</td>\n",
       "      <td>0.0</td>\n",
       "      <td>0.0</td>\n",
       "    </tr>\n",
       "    <tr>\n",
       "      <th>470</th>\n",
       "      <td>0.4</td>\n",
       "      <td>0.0</td>\n",
       "      <td>0.4</td>\n",
       "      <td>0.2</td>\n",
       "    </tr>\n",
       "    <tr>\n",
       "      <th>337</th>\n",
       "      <td>0.2</td>\n",
       "      <td>0.6</td>\n",
       "      <td>0.2</td>\n",
       "      <td>0.8</td>\n",
       "    </tr>\n",
       "    <tr>\n",
       "      <th>6</th>\n",
       "      <td>0.0</td>\n",
       "      <td>0.0</td>\n",
       "      <td>0.0</td>\n",
       "      <td>0.2</td>\n",
       "    </tr>\n",
       "    <tr>\n",
       "      <th>321</th>\n",
       "      <td>0.4</td>\n",
       "      <td>0.0</td>\n",
       "      <td>0.4</td>\n",
       "      <td>0.8</td>\n",
       "    </tr>\n",
       "    <tr>\n",
       "      <th>588</th>\n",
       "      <td>1.0</td>\n",
       "      <td>0.0</td>\n",
       "      <td>0.4</td>\n",
       "      <td>0.2</td>\n",
       "    </tr>\n",
       "    <tr>\n",
       "      <th>229</th>\n",
       "      <td>0.4</td>\n",
       "      <td>0.0</td>\n",
       "      <td>1.0</td>\n",
       "      <td>0.0</td>\n",
       "    </tr>\n",
       "    <tr>\n",
       "      <th>458</th>\n",
       "      <td>0.4</td>\n",
       "      <td>0.0</td>\n",
       "      <td>1.0</td>\n",
       "      <td>0.0</td>\n",
       "    </tr>\n",
       "    <tr>\n",
       "      <th>117</th>\n",
       "      <td>0.4</td>\n",
       "      <td>0.0</td>\n",
       "      <td>0.4</td>\n",
       "      <td>0.2</td>\n",
       "    </tr>\n",
       "    <tr>\n",
       "      <th>102</th>\n",
       "      <td>1.0</td>\n",
       "      <td>0.0</td>\n",
       "      <td>0.0</td>\n",
       "      <td>0.8</td>\n",
       "    </tr>\n",
       "    <tr>\n",
       "      <th>492</th>\n",
       "      <td>0.4</td>\n",
       "      <td>0.6</td>\n",
       "      <td>0.2</td>\n",
       "      <td>0.8</td>\n",
       "    </tr>\n",
       "    <tr>\n",
       "      <th>58</th>\n",
       "      <td>0.2</td>\n",
       "      <td>0.0</td>\n",
       "      <td>0.4</td>\n",
       "      <td>0.8</td>\n",
       "    </tr>\n",
       "    <tr>\n",
       "      <th>353</th>\n",
       "      <td>0.4</td>\n",
       "      <td>0.0</td>\n",
       "      <td>1.0</td>\n",
       "      <td>0.2</td>\n",
       "    </tr>\n",
       "    <tr>\n",
       "      <th>169</th>\n",
       "      <td>0.0</td>\n",
       "      <td>0.0</td>\n",
       "      <td>0.0</td>\n",
       "      <td>0.8</td>\n",
       "    </tr>\n",
       "    <tr>\n",
       "      <th>181</th>\n",
       "      <td>0.4</td>\n",
       "      <td>0.0</td>\n",
       "      <td>1.0</td>\n",
       "      <td>0.4</td>\n",
       "    </tr>\n",
       "    <tr>\n",
       "      <th>240</th>\n",
       "      <td>1.0</td>\n",
       "      <td>0.0</td>\n",
       "      <td>0.2</td>\n",
       "      <td>0.2</td>\n",
       "    </tr>\n",
       "    <tr>\n",
       "      <th>179</th>\n",
       "      <td>1.0</td>\n",
       "      <td>0.0</td>\n",
       "      <td>0.2</td>\n",
       "      <td>0.8</td>\n",
       "    </tr>\n",
       "    <tr>\n",
       "      <th>34</th>\n",
       "      <td>1.0</td>\n",
       "      <td>0.0</td>\n",
       "      <td>1.0</td>\n",
       "      <td>0.2</td>\n",
       "    </tr>\n",
       "    <tr>\n",
       "      <th>151</th>\n",
       "      <td>1.0</td>\n",
       "      <td>0.6</td>\n",
       "      <td>0.4</td>\n",
       "      <td>0.8</td>\n",
       "    </tr>\n",
       "    <tr>\n",
       "      <th>121</th>\n",
       "      <td>0.4</td>\n",
       "      <td>0.0</td>\n",
       "      <td>1.0</td>\n",
       "      <td>0.8</td>\n",
       "    </tr>\n",
       "    <tr>\n",
       "      <th>248</th>\n",
       "      <td>1.0</td>\n",
       "      <td>0.0</td>\n",
       "      <td>1.0</td>\n",
       "      <td>0.1</td>\n",
       "    </tr>\n",
       "    <tr>\n",
       "      <th>136</th>\n",
       "      <td>1.0</td>\n",
       "      <td>0.0</td>\n",
       "      <td>1.0</td>\n",
       "      <td>0.2</td>\n",
       "    </tr>\n",
       "    <tr>\n",
       "      <th>99</th>\n",
       "      <td>1.0</td>\n",
       "      <td>0.0</td>\n",
       "      <td>1.0</td>\n",
       "      <td>0.0</td>\n",
       "    </tr>\n",
       "    <tr>\n",
       "      <th>42</th>\n",
       "      <td>1.0</td>\n",
       "      <td>0.0</td>\n",
       "      <td>0.2</td>\n",
       "      <td>0.2</td>\n",
       "    </tr>\n",
       "    <tr>\n",
       "      <th>244</th>\n",
       "      <td>1.0</td>\n",
       "      <td>0.0</td>\n",
       "      <td>1.0</td>\n",
       "      <td>0.2</td>\n",
       "    </tr>\n",
       "  </tbody>\n",
       "</table>\n",
       "</div>"
      ],
      "text/plain": [
       "movieId   5    12   3    10\n",
       "userId                     \n",
       "43       0.0  0.0  0.0  0.0\n",
       "470      0.4  0.0  0.4  0.2\n",
       "337      0.2  0.6  0.2  0.8\n",
       "6        0.0  0.0  0.0  0.2\n",
       "321      0.4  0.0  0.4  0.8\n",
       "588      1.0  0.0  0.4  0.2\n",
       "229      0.4  0.0  1.0  0.0\n",
       "458      0.4  0.0  1.0  0.0\n",
       "117      0.4  0.0  0.4  0.2\n",
       "102      1.0  0.0  0.0  0.8\n",
       "492      0.4  0.6  0.2  0.8\n",
       "58       0.2  0.0  0.4  0.8\n",
       "353      0.4  0.0  1.0  0.2\n",
       "169      0.0  0.0  0.0  0.8\n",
       "181      0.4  0.0  1.0  0.4\n",
       "240      1.0  0.0  0.2  0.2\n",
       "179      1.0  0.0  0.2  0.8\n",
       "34       1.0  0.0  1.0  0.2\n",
       "151      1.0  0.6  0.4  0.8\n",
       "121      0.4  0.0  1.0  0.8\n",
       "248      1.0  0.0  1.0  0.1\n",
       "136      1.0  0.0  1.0  0.2\n",
       "99       1.0  0.0  1.0  0.0\n",
       "42       1.0  0.0  0.2  0.2\n",
       "244      1.0  0.0  1.0  0.2"
      ]
     },
     "execution_count": 35,
     "metadata": {},
     "output_type": "execute_result"
    }
   ],
   "source": [
    "np.abs(closest_original.loc[:, new_user_ratings.keys()].subtract(user.loc[:, new_user_ratings.keys()].iloc[0,:]))/10"
   ]
  },
  {
   "cell_type": "code",
   "execution_count": null,
   "id": "c0ddf888",
   "metadata": {},
   "outputs": [],
   "source": []
  },
  {
   "cell_type": "code",
   "execution_count": 115,
   "id": "180ea2d7",
   "metadata": {
    "ExecuteTime": {
     "end_time": "2023-01-26T07:05:34.053214Z",
     "start_time": "2023-01-26T07:05:34.034207Z"
    }
   },
   "outputs": [
    {
     "data": {
      "text/plain": [
       "(array([[0.4504006 ],\n",
       "        [0.37414747]]),\n",
       " array([[54.95993964],\n",
       "        [62.58525343]]))"
      ]
     },
     "execution_count": 115,
     "metadata": {},
     "output_type": "execute_result"
    }
   ],
   "source": [
    "from sklearn.metrics import pairwise_distances\n",
    "from sklearn.metrics.pairwise import cosine_similarity\n",
    "\n",
    "x = np.array([[10, 0, 10, 8, 0, 3, 5, 3, 9, 9, 9, 9, 9, 9, 9],\n",
    "              [10, 0, 10, 8, 0, 1, 1, 1, 9, 9, 1, 1, 9, 9, 9]])\n",
    "y = np.array([10, 0, 10, 8, 0, 0, 0, 0, 0, 0, 0, 0, 0, 0, 0])\n",
    "\n",
    "cosine_distance = pairwise_distances(x, y.reshape(1, -1), metric='cosine')\n",
    "cosine_similarity = cosine_similarity(x, y.reshape(1, -1))\n",
    "cosine_distance, cosine_similarity * 100"
   ]
  },
  {
   "cell_type": "code",
   "execution_count": 99,
   "id": "95df9830",
   "metadata": {
    "ExecuteTime": {
     "end_time": "2023-01-26T06:45:49.644840Z",
     "start_time": "2023-01-26T06:45:49.599826Z"
    }
   },
   "outputs": [],
   "source": [
    "from numpy import dot\n",
    "from numpy.linalg import norm\n",
    "\n",
    "cos_sim = dot(x, y)/(norm(x)*norm(y))"
   ]
  },
  {
   "cell_type": "code",
   "execution_count": 100,
   "id": "cdc444b7",
   "metadata": {
    "ExecuteTime": {
     "end_time": "2023-01-26T06:45:54.123108Z",
     "start_time": "2023-01-26T06:45:54.109857Z"
    }
   },
   "outputs": [
    {
     "data": {
      "text/plain": [
       "0.5495993964402669"
      ]
     },
     "execution_count": 100,
     "metadata": {},
     "output_type": "execute_result"
    }
   ],
   "source": [
    "cos_sim"
   ]
  },
  {
   "cell_type": "code",
   "execution_count": 114,
   "id": "09b9dbc7",
   "metadata": {
    "ExecuteTime": {
     "end_time": "2023-01-26T06:51:37.319753Z",
     "start_time": "2023-01-26T06:51:37.305555Z"
    }
   },
   "outputs": [
    {
     "data": {
      "text/plain": [
       "264"
      ]
     },
     "execution_count": 114,
     "metadata": {},
     "output_type": "execute_result"
    }
   ],
   "source": [
    "dot(x[1], y)"
   ]
  },
  {
   "cell_type": "code",
   "execution_count": 107,
   "id": "7ddfd6d7",
   "metadata": {
    "ExecuteTime": {
     "end_time": "2023-01-26T06:47:02.254882Z",
     "start_time": "2023-01-26T06:47:02.235691Z"
    }
   },
   "outputs": [
    {
     "data": {
      "text/plain": [
       "29.563490998188964"
      ]
     },
     "execution_count": 107,
     "metadata": {},
     "output_type": "execute_result"
    }
   ],
   "source": [
    "norm(x)"
   ]
  },
  {
   "cell_type": "code",
   "execution_count": null,
   "id": "0f8e5746",
   "metadata": {
    "ExecuteTime": {
     "end_time": "2023-01-25T21:09:36.149496Z",
     "start_time": "2023-01-25T21:09:36.125471Z"
    }
   },
   "outputs": [],
   "source": []
  },
  {
   "cell_type": "code",
   "execution_count": null,
   "id": "6be1f936",
   "metadata": {
    "ExecuteTime": {
     "end_time": "2023-01-25T21:09:55.387815Z",
     "start_time": "2023-01-25T21:09:55.373282Z"
    }
   },
   "outputs": [],
   "source": []
  },
  {
   "cell_type": "code",
   "execution_count": null,
   "id": "120736a2",
   "metadata": {
    "ExecuteTime": {
     "end_time": "2023-01-26T05:56:59.813927Z",
     "start_time": "2023-01-26T05:56:59.813927Z"
    }
   },
   "outputs": [],
   "source": [
    "{'closest': original_indexes.values.tolist()}"
   ]
  },
  {
   "cell_type": "code",
   "execution_count": null,
   "id": "899f2704",
   "metadata": {},
   "outputs": [],
   "source": []
  },
  {
   "cell_type": "code",
   "execution_count": null,
   "id": "ab20c9f2",
   "metadata": {
    "ExecuteTime": {
     "end_time": "2023-01-25T20:59:14.773646Z",
     "start_time": "2023-01-25T20:59:14.757621Z"
    }
   },
   "outputs": [],
   "source": []
  },
  {
   "cell_type": "code",
   "execution_count": null,
   "id": "ccd08c20",
   "metadata": {
    "ExecuteTime": {
     "end_time": "2023-01-26T05:56:59.816168Z",
     "start_time": "2023-01-26T05:56:59.816168Z"
    }
   },
   "outputs": [],
   "source": [
    "import pickle"
   ]
  },
  {
   "cell_type": "code",
   "execution_count": null,
   "id": "66541f52",
   "metadata": {
    "ExecuteTime": {
     "end_time": "2023-01-26T05:56:59.819504Z",
     "start_time": "2023-01-26T05:56:59.819504Z"
    }
   },
   "outputs": [],
   "source": [
    "matrix_original = pd.read_csv('matrix_original.csv')\n",
    "user_item_matrix = pd.read_csv('user_item_matrix.csv')\n",
    "user_item_matrix.set_index('userId',inplace=True)\n",
    "model = pickle.load(open('csr_model.pkl', 'rb'))"
   ]
  },
  {
   "cell_type": "code",
   "execution_count": null,
   "id": "ed46b493",
   "metadata": {
    "ExecuteTime": {
     "end_time": "2023-01-26T05:56:59.821498Z",
     "start_time": "2023-01-26T05:56:59.821498Z"
    }
   },
   "outputs": [],
   "source": [
    "new_user_ratings = {'1': 4, '2': 3, '3': 5, '7': 4, '10': 6}\n",
    "user = pd.DataFrame([np.zeros(matrix_original.columns.shape)], columns=matrix_original.columns)\n",
    "user.loc[:, new_user_ratings.keys()] = new_user_ratings.values()\n",
    "\n",
    "user_mask = user_item_matrix.index\n",
    "movie_mask = user_item_matrix.columns\n",
    "\n",
    "new_user_item_matrix = user.loc[:, movie_mask]\n",
    "\n",
    "user_csr_data = csr_matrix(new_user_item_matrix.values)"
   ]
  },
  {
   "cell_type": "code",
   "execution_count": null,
   "id": "9ba0c3ec",
   "metadata": {
    "ExecuteTime": {
     "end_time": "2023-01-26T05:56:59.823501Z",
     "start_time": "2023-01-26T05:56:59.823501Z"
    }
   },
   "outputs": [],
   "source": [
    "distances, indices = model.kneighbors(user_csr_data, n_neighbors=25)\n",
    "closest_users_indexes = indices[0]\n",
    "original_indexes = user_item_matrix.index[closest_users_indexes]"
   ]
  },
  {
   "cell_type": "code",
   "execution_count": 127,
   "id": "bf2b5ddc",
   "metadata": {
    "ExecuteTime": {
     "end_time": "2023-01-26T15:17:05.176912Z",
     "start_time": "2023-01-26T15:17:04.743148Z"
    },
    "scrolled": false
   },
   "outputs": [],
   "source": [
    "import requests\n",
    "import json\n",
    "\n",
    "# Prepare the JSON object to send to the server\n",
    "movieIds = ['10', '24', '1', '7', '10']\n",
    "\n",
    "new_user_ratings = {key: value for key, value in zip(movieIds, [4, 3, 5, 4, 6])}\n",
    "data = {'input': 5}\n",
    "headers = {'Content-type': 'application/json'}\n",
    "\n",
    "# Send the JSON object to the server and get the response\n",
    "response1 = requests.post('http://18.159.103.9:8080/mates', data=json.dumps(new_user_ratings), headers=headers)\n",
    "# response = requests.post('http://localhost:5000/mates', data=json.dumps(new_user_ratings), headers=headers)\n",
    "\n",
    "# Print the response from the server\n",
    "# print(response.json())\n",
    "# print(response.text)"
   ]
  },
  {
   "cell_type": "code",
   "execution_count": 126,
   "id": "f22006c9",
   "metadata": {
    "ExecuteTime": {
     "end_time": "2023-01-26T15:17:00.595043Z",
     "start_time": "2023-01-26T15:17:00.581040Z"
    }
   },
   "outputs": [
    {
     "data": {
      "text/plain": [
       "{'151': 69.84377446666255,\n",
       " '178': 76.17065367657878,\n",
       " '179': 70.44272703258582,\n",
       " '181': 71.00138721934808,\n",
       " '229': 86.13725844742306,\n",
       " '240': 69.20842810941467,\n",
       " '262': 71.63839546737458,\n",
       " '304': 73.75641284766007,\n",
       " '314': 80.47543611300817,\n",
       " '32': 71.50489462674084,\n",
       " '322': 73.94236410272565,\n",
       " '334': 68.60224705810072,\n",
       " '337': 78.38268073854753,\n",
       " '341': 69.42963408511757,\n",
       " '353': 76.95045810625736,\n",
       " '411': 82.06539098084899,\n",
       " '43': 83.44738070477476,\n",
       " '470': 85.15824802637046,\n",
       " '476': 76.57928786233015,\n",
       " '524': 71.8578578094304,\n",
       " '541': 88.4943009396088,\n",
       " '559': 72.22715463934259,\n",
       " '566': 72.08890728339345,\n",
       " '584': 81.0337741781415,\n",
       " '90': 79.3564126249039}"
      ]
     },
     "execution_count": 126,
     "metadata": {},
     "output_type": "execute_result"
    }
   ],
   "source": [
    "response1.json()"
   ]
  },
  {
   "cell_type": "code",
   "execution_count": 128,
   "id": "54a27621",
   "metadata": {
    "ExecuteTime": {
     "end_time": "2023-01-26T15:34:44.961203Z",
     "start_time": "2023-01-26T15:34:44.945380Z"
    }
   },
   "outputs": [
    {
     "data": {
      "text/plain": [
       "{'10': 6, '24': 3, '1': 5, '7': 4}"
      ]
     },
     "execution_count": 128,
     "metadata": {},
     "output_type": "execute_result"
    }
   ],
   "source": [
    "new_user_ratings"
   ]
  },
  {
   "cell_type": "code",
   "execution_count": 129,
   "id": "beaa57e1",
   "metadata": {
    "ExecuteTime": {
     "end_time": "2023-01-26T15:34:46.755054Z",
     "start_time": "2023-01-26T15:34:46.700072Z"
    }
   },
   "outputs": [
    {
     "data": {
      "text/plain": [
       "[43,\n",
       " 470,\n",
       " 337,\n",
       " 6,\n",
       " 321,\n",
       " 588,\n",
       " 229,\n",
       " 458,\n",
       " 117,\n",
       " 102,\n",
       " 492,\n",
       " 58,\n",
       " 353,\n",
       " 169,\n",
       " 181,\n",
       " 240,\n",
       " 179,\n",
       " 34,\n",
       " 151,\n",
       " 121,\n",
       " 248,\n",
       " 136,\n",
       " 99,\n",
       " 42,\n",
       " 244]"
      ]
     },
     "execution_count": 129,
     "metadata": {},
     "output_type": "execute_result"
    }
   ],
   "source": [
    "original_indexes.values.tolist()"
   ]
  },
  {
   "cell_type": "code",
   "execution_count": 130,
   "id": "dc94110c",
   "metadata": {
    "ExecuteTime": {
     "end_time": "2023-01-26T15:34:50.470509Z",
     "start_time": "2023-01-26T15:34:50.448113Z"
    }
   },
   "outputs": [
    {
     "data": {
      "text/plain": [
       "{'151': 69.84377446666255,\n",
       " '178': 76.17065367657878,\n",
       " '179': 70.44272703258582,\n",
       " '181': 71.00138721934808,\n",
       " '229': 86.13725844742306,\n",
       " '240': 69.20842810941467,\n",
       " '262': 71.63839546737458,\n",
       " '304': 73.75641284766007,\n",
       " '314': 80.47543611300817,\n",
       " '32': 71.50489462674084,\n",
       " '322': 73.94236410272565,\n",
       " '334': 68.60224705810072,\n",
       " '337': 78.38268073854753,\n",
       " '341': 69.42963408511757,\n",
       " '353': 76.95045810625736,\n",
       " '411': 82.06539098084899,\n",
       " '43': 83.44738070477476,\n",
       " '470': 85.15824802637046,\n",
       " '476': 76.57928786233015,\n",
       " '524': 71.8578578094304,\n",
       " '541': 88.4943009396088,\n",
       " '559': 72.22715463934259,\n",
       " '566': 72.08890728339345,\n",
       " '584': 81.0337741781415,\n",
       " '90': 79.3564126249039}"
      ]
     },
     "execution_count": 130,
     "metadata": {},
     "output_type": "execute_result"
    }
   ],
   "source": [
    "response1.json()"
   ]
  },
  {
   "cell_type": "code",
   "execution_count": null,
   "id": "d0d1a588",
   "metadata": {
    "ExecuteTime": {
     "end_time": "2023-01-26T05:56:59.831057Z",
     "start_time": "2023-01-26T05:56:59.831057Z"
    }
   },
   "outputs": [],
   "source": [
    "original_indexes = user_item_matrix.index[closest_users_indexes]\n",
    "closest_original = user_item_matrix.loc[original_indexes]\n",
    "closest_original"
   ]
  },
  {
   "cell_type": "code",
   "execution_count": null,
   "id": "08a8a807",
   "metadata": {
    "ExecuteTime": {
     "end_time": "2023-01-25T19:27:26.017855Z",
     "start_time": "2023-01-25T19:27:24.137347Z"
    }
   },
   "outputs": [],
   "source": []
  },
  {
   "cell_type": "code",
   "execution_count": null,
   "id": "9850663f",
   "metadata": {},
   "outputs": [],
   "source": []
  },
  {
   "cell_type": "code",
   "execution_count": null,
   "id": "65d6eac6",
   "metadata": {},
   "outputs": [],
   "source": []
  },
  {
   "cell_type": "code",
   "execution_count": null,
   "id": "8769553f",
   "metadata": {
    "ExecuteTime": {
     "end_time": "2023-01-26T05:56:59.831057Z",
     "start_time": "2023-01-26T05:56:59.831057Z"
    }
   },
   "outputs": [],
   "source": [
    "# # Get the mean rating for each user\n",
    "# user_means = matrix_original.mean(axis=1)\n",
    "\n",
    "# # Subtract the mean rating for each user from their ratings\n",
    "# matrix_corrected = matrix_original.subtract(user_means, axis=0)"
   ]
  },
  {
   "cell_type": "code",
   "execution_count": null,
   "id": "9149cfdb",
   "metadata": {
    "ExecuteTime": {
     "end_time": "2023-01-26T05:56:59.831057Z",
     "start_time": "2023-01-26T05:56:59.831057Z"
    }
   },
   "outputs": [],
   "source": [
    "matrix_corrected = matrix_original"
   ]
  },
  {
   "cell_type": "code",
   "execution_count": null,
   "id": "104fe81b",
   "metadata": {
    "ExecuteTime": {
     "end_time": "2023-01-26T05:56:59.837205Z",
     "start_time": "2023-01-26T05:56:59.837205Z"
    }
   },
   "outputs": [],
   "source": [
    "matrix_corrected.fillna(0, inplace=True)"
   ]
  },
  {
   "cell_type": "code",
   "execution_count": null,
   "id": "58fa4250",
   "metadata": {
    "ExecuteTime": {
     "end_time": "2023-01-26T05:56:59.838194Z",
     "start_time": "2023-01-26T05:56:59.838194Z"
    }
   },
   "outputs": [],
   "source": [
    "# from sklearn.preprocessing import MinMaxScaler\n",
    "# sclr = MinMaxScaler()\n",
    "# matrix_normalized_nn = sclr.fit_transform(matrix_normalized)"
   ]
  },
  {
   "cell_type": "code",
   "execution_count": null,
   "id": "de927956",
   "metadata": {
    "ExecuteTime": {
     "end_time": "2023-01-26T05:56:59.839198Z",
     "start_time": "2023-01-26T05:56:59.839198Z"
    }
   },
   "outputs": [],
   "source": [
    "from sklearn.decomposition import NMF\n",
    "from sklearn.preprocessing import MinMaxScaler\n",
    "\n",
    "sclr = MinMaxScaler()\n",
    "nmf = NMF(max_iter=5000, n_components=100)\n",
    "\n",
    "# W = nmf.fit_transform(sclr.fit_transform(matrix_corrected))\n",
    "W = nmf.fit_transform(matrix_corrected)\n",
    "H = nmf.components_\n",
    "\n",
    "# matrix_reconstructed = sclr.inverse_transform(np.dot(W, H))\n",
    "matrix_reconstructed = np.dot(W, H)"
   ]
  },
  {
   "cell_type": "code",
   "execution_count": null,
   "id": "78358b6f",
   "metadata": {
    "ExecuteTime": {
     "end_time": "2023-01-26T05:56:59.841190Z",
     "start_time": "2023-01-26T05:56:59.841190Z"
    }
   },
   "outputs": [],
   "source": [
    "# pred_rat = sclr.inverse_transform(matrix_reconstructed)\n",
    "matrix_pred_nmf = pd.DataFrame(matrix_reconstructed, columns=matrix_original.columns).set_index(matrix_original.index)"
   ]
  },
  {
   "cell_type": "code",
   "execution_count": null,
   "id": "6e769cd2",
   "metadata": {
    "ExecuteTime": {
     "end_time": "2023-01-26T05:56:59.843647Z",
     "start_time": "2023-01-26T05:56:59.843647Z"
    }
   },
   "outputs": [],
   "source": [
    "matrix_original"
   ]
  },
  {
   "cell_type": "code",
   "execution_count": null,
   "id": "3a0592c4",
   "metadata": {
    "ExecuteTime": {
     "end_time": "2023-01-26T05:56:59.845670Z",
     "start_time": "2023-01-26T05:56:59.845670Z"
    }
   },
   "outputs": [],
   "source": [
    "# matrix_pred_nmf = matrix_pred_nmf.add(user_means, axis=0)\n",
    "matrix_pred_nmf.round()"
   ]
  },
  {
   "cell_type": "code",
   "execution_count": null,
   "id": "b4ad614b",
   "metadata": {
    "ExecuteTime": {
     "end_time": "2023-01-26T05:56:59.847084Z",
     "start_time": "2023-01-26T05:56:59.847084Z"
    }
   },
   "outputs": [],
   "source": [
    "movieIds = [1,2,3,7,8]\n",
    "\n",
    "new_user_ratings = {key: value for key, value in zip(movieIds, [4,3,5,4,6])}\n",
    "\n",
    "new_user_ratings\n",
    "\n",
    "user = pd.DataFrame([np.zeros(matrix_original.columns.shape)], columns=matrix_original.columns)\n",
    "\n",
    "user.loc[:, new_user_ratings.keys()] = new_user_ratings.values()\n",
    "\n",
    "user"
   ]
  },
  {
   "cell_type": "code",
   "execution_count": null,
   "id": "01d56481",
   "metadata": {
    "ExecuteTime": {
     "end_time": "2023-01-26T05:56:59.848093Z",
     "start_time": "2023-01-26T05:56:59.848093Z"
    }
   },
   "outputs": [],
   "source": [
    "W1 = nmf.transform(user)\n",
    "H1 = nmf.components_\n",
    "\n",
    "user_reconstructed = np.dot(W1, H1)"
   ]
  },
  {
   "cell_type": "code",
   "execution_count": null,
   "id": "ddb39532",
   "metadata": {
    "ExecuteTime": {
     "end_time": "2023-01-26T05:56:59.849130Z",
     "start_time": "2023-01-26T05:56:59.849130Z"
    }
   },
   "outputs": [],
   "source": [
    "user_reconstructed = pd.DataFrame(user_reconstructed, columns=matrix_original.columns)"
   ]
  },
  {
   "cell_type": "code",
   "execution_count": null,
   "id": "2896f7d9",
   "metadata": {
    "ExecuteTime": {
     "end_time": "2023-01-26T05:56:59.850153Z",
     "start_time": "2023-01-26T05:56:59.850153Z"
    }
   },
   "outputs": [],
   "source": [
    "user_reconstructed"
   ]
  },
  {
   "cell_type": "code",
   "execution_count": null,
   "id": "e46174b6",
   "metadata": {
    "ExecuteTime": {
     "end_time": "2023-01-26T05:56:59.852290Z",
     "start_time": "2023-01-26T05:56:59.852290Z"
    }
   },
   "outputs": [],
   "source": [
    "matrix_original = df.pivot(index='userId', columns='movieId', values='rating')"
   ]
  },
  {
   "cell_type": "code",
   "execution_count": null,
   "id": "b55316d8",
   "metadata": {
    "ExecuteTime": {
     "end_time": "2023-01-26T05:56:59.854610Z",
     "start_time": "2023-01-26T05:56:59.854610Z"
    }
   },
   "outputs": [],
   "source": [
    "matrix_original.fillna(0, inplace=True)\n",
    "matrix_original"
   ]
  },
  {
   "cell_type": "code",
   "execution_count": null,
   "id": "6ac0db44",
   "metadata": {
    "ExecuteTime": {
     "end_time": "2023-01-26T05:56:59.856038Z",
     "start_time": "2023-01-26T05:56:59.856038Z"
    }
   },
   "outputs": [],
   "source": [
    "# from sklearn.decomposition import NMF\n",
    "# from sklearn.neighbors import NearestNeighbors\n",
    "# import pandas as pd\n",
    "\n",
    "# # Create pivot table of user-film ratings\n",
    "\n",
    "\n",
    "# # Fit NMF model to the original matrix\n",
    "# nmf = NMF(n_components=100)\n",
    "# nmf.fit(matrix_original)\n",
    "\n",
    "# # Get the user latent features\n",
    "# user_latent_features = nmf.transform(matrix_original)\n",
    "\n",
    "# # Use NearestNeighbors to find the N closest users\n",
    "# knn = NearestNeighbors(n_neighbors=50, metric='cosine')\n",
    "# knn.fit(user_latent_features)\n",
    "\n",
    "# # Find the N closest users for a new user\n",
    "# # new_user_ratings = [5, 4, 3, 2, 1] # example ratings for 5 movies\n",
    "# # new_user_latent_features = nmf.transform(new_user_ratings)\n",
    "# new_user_latent_features = nmf.transform(user)\n",
    "# closest_users = knn.kneighbors(new_user_latent_features, return_distance=False)\n",
    "\n",
    "# # closest_users will be an array of shape (1,N) containing the indices of the closest users in the original matrix\n"
   ]
  },
  {
   "cell_type": "code",
   "execution_count": null,
   "id": "ef173aac",
   "metadata": {
    "ExecuteTime": {
     "end_time": "2023-01-26T05:56:59.857046Z",
     "start_time": "2023-01-26T05:56:59.857046Z"
    }
   },
   "outputs": [],
   "source": [
    "# closest_users"
   ]
  },
  {
   "cell_type": "code",
   "execution_count": null,
   "id": "2ccb4f31",
   "metadata": {
    "ExecuteTime": {
     "end_time": "2023-01-26T05:56:59.858047Z",
     "start_time": "2023-01-26T05:56:59.858047Z"
    }
   },
   "outputs": [],
   "source": [
    "# user[new_user_ratings.keys()]"
   ]
  },
  {
   "cell_type": "code",
   "execution_count": null,
   "id": "2eb45562",
   "metadata": {
    "ExecuteTime": {
     "end_time": "2023-01-26T05:56:59.860051Z",
     "start_time": "2023-01-26T05:56:59.860051Z"
    },
    "scrolled": false
   },
   "outputs": [],
   "source": [
    "# matrix_original.iloc[closest_users[0],:].loc[:, new_user_ratings.keys()]"
   ]
  },
  {
   "cell_type": "code",
   "execution_count": null,
   "id": "31501119",
   "metadata": {},
   "outputs": [],
   "source": []
  },
  {
   "cell_type": "code",
   "execution_count": null,
   "id": "7afca157",
   "metadata": {},
   "outputs": [],
   "source": []
  },
  {
   "cell_type": "code",
   "execution_count": null,
   "id": "59ba7ea3",
   "metadata": {},
   "outputs": [],
   "source": []
  },
  {
   "cell_type": "code",
   "execution_count": null,
   "id": "2a8f32a0",
   "metadata": {},
   "outputs": [],
   "source": []
  },
  {
   "cell_type": "code",
   "execution_count": null,
   "id": "8dea7834",
   "metadata": {},
   "outputs": [],
   "source": []
  },
  {
   "cell_type": "code",
   "execution_count": null,
   "id": "8e779351",
   "metadata": {
    "ExecuteTime": {
     "end_time": "2023-01-26T05:56:59.861585Z",
     "start_time": "2023-01-26T05:56:59.861585Z"
    }
   },
   "outputs": [],
   "source": [
    "# matrix_original"
   ]
  },
  {
   "cell_type": "code",
   "execution_count": null,
   "id": "64887cf4",
   "metadata": {},
   "outputs": [],
   "source": []
  },
  {
   "cell_type": "code",
   "execution_count": null,
   "id": "aa10d956",
   "metadata": {
    "ExecuteTime": {
     "end_time": "2023-01-26T05:56:59.861585Z",
     "start_time": "2023-01-26T05:56:59.861585Z"
    }
   },
   "outputs": [],
   "source": [
    "# import implicit\n",
    "\n",
    "\n",
    "# from scipy.sparse import csr_matrix\n",
    "# matrix_original = df.pivot(index='userId', columns='movieId', values='rating')\n",
    "\n",
    "# matrix_original.fillna(0, inplace=True)\n",
    "\n",
    "# # matrix_original_sparse = csr_matrix(matrix_original.values)\n",
    "# pmf = implicit.als.AlternatingLeastSquares(factors=50)\n",
    "# pmf.fit(matrix_original_sparse.T)\n",
    "# # matrix_filled = pmf.complete(matrix_original_sparse.T)\n",
    "# matrix_filled = np.dot(pmf.user_factors, pmf.item_factors.T)\n",
    "\n",
    "\n",
    "\n",
    "# # matrix_original = df.pivot(index='userId', columns='movieId', values='rating')\n",
    "\n",
    "# # pmf = implicit.als.AlternatingLeastSquares(factors=50)\n",
    "\n",
    "# # pmf.fit(matrix_original.T.tocsr())\n",
    "\n",
    "# # matrix_filled = pmf.complete(matrix_original.T.tocsr())\n"
   ]
  },
  {
   "cell_type": "code",
   "execution_count": null,
   "id": "c13fbcb6",
   "metadata": {
    "ExecuteTime": {
     "end_time": "2023-01-26T05:56:59.861585Z",
     "start_time": "2023-01-26T05:56:59.861585Z"
    }
   },
   "outputs": [],
   "source": [
    "# matrix_filled = pd.DataFrame(matrix_filled.T, columns=matrix_original.columns).set_index(matrix_original.index)"
   ]
  },
  {
   "cell_type": "code",
   "execution_count": null,
   "id": "75011804",
   "metadata": {
    "ExecuteTime": {
     "end_time": "2023-01-26T05:56:59.869443Z",
     "start_time": "2023-01-26T05:56:59.869443Z"
    }
   },
   "outputs": [],
   "source": [
    "# matrix_filled"
   ]
  },
  {
   "cell_type": "code",
   "execution_count": null,
   "id": "d4203700",
   "metadata": {},
   "outputs": [],
   "source": []
  },
  {
   "cell_type": "code",
   "execution_count": null,
   "id": "643c9ccb",
   "metadata": {},
   "outputs": [],
   "source": []
  },
  {
   "cell_type": "code",
   "execution_count": null,
   "id": "3d123fcf",
   "metadata": {},
   "outputs": [],
   "source": []
  },
  {
   "cell_type": "code",
   "execution_count": null,
   "id": "04251430",
   "metadata": {},
   "outputs": [],
   "source": []
  },
  {
   "cell_type": "code",
   "execution_count": null,
   "id": "0cfd07b8",
   "metadata": {},
   "outputs": [],
   "source": []
  },
  {
   "cell_type": "code",
   "execution_count": null,
   "id": "27d7abce",
   "metadata": {
    "ExecuteTime": {
     "end_time": "2023-01-26T05:56:59.870442Z",
     "start_time": "2023-01-26T05:56:59.870442Z"
    }
   },
   "outputs": [],
   "source": [
    "# matrix_pred_nmf"
   ]
  },
  {
   "cell_type": "code",
   "execution_count": null,
   "id": "8a5877bc",
   "metadata": {
    "ExecuteTime": {
     "end_time": "2023-01-26T05:56:59.872442Z",
     "start_time": "2023-01-26T05:56:59.872442Z"
    }
   },
   "outputs": [],
   "source": [
    "# matrix_normalized"
   ]
  },
  {
   "cell_type": "code",
   "execution_count": null,
   "id": "bdde96c0",
   "metadata": {
    "ExecuteTime": {
     "end_time": "2023-01-26T05:56:59.874436Z",
     "start_time": "2023-01-26T05:56:59.874436Z"
    }
   },
   "outputs": [],
   "source": [
    "# # matrix_normalized.to_numpy().shape\n",
    "# matrix_original = df.pivot(index='userId', columns='movieId', values='rating')*2\n",
    "# matrix_original.fillna(0, inplace=True)"
   ]
  },
  {
   "cell_type": "code",
   "execution_count": null,
   "id": "b9a6b572",
   "metadata": {
    "ExecuteTime": {
     "end_time": "2023-01-26T05:56:59.875442Z",
     "start_time": "2023-01-26T05:56:59.875442Z"
    }
   },
   "outputs": [],
   "source": [
    "# import numpy as np\n",
    "# from scipy.sparse.linalg import svds\n",
    "\n",
    "# # Load your user-film rating matrix\n",
    "# matrix_normalized_np = matrix_original.to_numpy()\n",
    "\n",
    "# # Get the indices of the missing values in the matrix\n",
    "# missing_values = np.where(matrix_normalized_np == 0)\n",
    "\n",
    "# # Perform SVD on the matrix\n",
    "# U, S, VT = svds(matrix_normalized_np, k=500)\n",
    "\n",
    "# # Compute the dot product of U, S, and VT\n",
    "# predicted_ratings = np.dot(np.dot(U, np.diag(S)), VT)\n",
    "\n",
    "# # Fill in the missing values in the matrix with the predicted values\n",
    "# matrix_normalized_np[missing_values] = predicted_ratings[missing_values]\n"
   ]
  },
  {
   "cell_type": "code",
   "execution_count": null,
   "id": "fe7b0581",
   "metadata": {
    "ExecuteTime": {
     "end_time": "2023-01-26T05:56:59.877438Z",
     "start_time": "2023-01-26T05:56:59.877438Z"
    }
   },
   "outputs": [],
   "source": [
    "# matrix_predicted = pd.DataFrame(matrix_normalized_np, columns=matrix_original.columns).set_index(matrix_original.index)"
   ]
  },
  {
   "cell_type": "code",
   "execution_count": null,
   "id": "746d5065",
   "metadata": {
    "ExecuteTime": {
     "end_time": "2023-01-26T05:56:59.879439Z",
     "start_time": "2023-01-26T05:56:59.879439Z"
    }
   },
   "outputs": [],
   "source": [
    "# matrix_predicted_filled = (matrix_predicted.T + matrix_original.mean(axis=1)).T"
   ]
  },
  {
   "cell_type": "code",
   "execution_count": null,
   "id": "8d452110",
   "metadata": {
    "ExecuteTime": {
     "end_time": "2023-01-26T05:56:59.880892Z",
     "start_time": "2023-01-26T05:56:59.880892Z"
    }
   },
   "outputs": [],
   "source": [
    "# matrix_predicted_filled.round()"
   ]
  },
  {
   "cell_type": "code",
   "execution_count": null,
   "id": "d69eaba6",
   "metadata": {},
   "outputs": [],
   "source": []
  },
  {
   "cell_type": "code",
   "execution_count": null,
   "id": "9d25f067",
   "metadata": {},
   "outputs": [],
   "source": []
  },
  {
   "cell_type": "code",
   "execution_count": null,
   "id": "1e7a33a1",
   "metadata": {},
   "outputs": [],
   "source": []
  },
  {
   "cell_type": "code",
   "execution_count": null,
   "id": "00f742f9",
   "metadata": {},
   "outputs": [],
   "source": []
  },
  {
   "cell_type": "code",
   "execution_count": null,
   "id": "afcad4b4",
   "metadata": {},
   "outputs": [],
   "source": []
  },
  {
   "cell_type": "code",
   "execution_count": null,
   "id": "2d5c112f",
   "metadata": {},
   "outputs": [],
   "source": []
  },
  {
   "cell_type": "code",
   "execution_count": null,
   "id": "e5454724",
   "metadata": {},
   "outputs": [],
   "source": []
  },
  {
   "cell_type": "code",
   "execution_count": null,
   "id": "5b8566fc",
   "metadata": {},
   "outputs": [],
   "source": []
  },
  {
   "cell_type": "code",
   "execution_count": null,
   "id": "d17a8b4c",
   "metadata": {
    "ExecuteTime": {
     "end_time": "2023-01-26T05:56:59.880892Z",
     "start_time": "2023-01-26T05:56:59.880892Z"
    }
   },
   "outputs": [],
   "source": [
    "matrix_original = df.pivot(index='userId', columns='movieId', values='rating')*2\n",
    "matrix_original.fillna(0, inplace=True)"
   ]
  },
  {
   "cell_type": "code",
   "execution_count": null,
   "id": "403a4c4e",
   "metadata": {
    "ExecuteTime": {
     "end_time": "2023-01-26T05:56:59.885024Z",
     "start_time": "2023-01-26T05:56:59.885024Z"
    }
   },
   "outputs": [],
   "source": [
    "matrix_original"
   ]
  },
  {
   "cell_type": "code",
   "execution_count": null,
   "id": "10f6c8ce",
   "metadata": {
    "ExecuteTime": {
     "end_time": "2023-01-25T14:25:23.820370Z",
     "start_time": "2023-01-25T14:25:23.798375Z"
    }
   },
   "outputs": [],
   "source": []
  },
  {
   "cell_type": "code",
   "execution_count": null,
   "id": "796b88d7",
   "metadata": {
    "ExecuteTime": {
     "end_time": "2023-01-26T05:56:59.887040Z",
     "start_time": "2023-01-26T05:56:59.887040Z"
    }
   },
   "outputs": [],
   "source": [
    "from scipy.sparse import csr_matrix\n",
    "from sklearn.neighbors import NearestNeighbors\n",
    "matrix_original\n",
    "\n",
    "users_votes = df.groupby('userId')['rating'].agg('count')\n",
    "\n",
    "movies_votes = df.groupby('movieId')['rating'].agg('count')\n",
    "\n",
    "user_mask = users_votes[users_votes > 50].index\n",
    "movie_mask = movies_votes[movies_votes > 10].index\n",
    "\n",
    "user_item_matrix = matrix_original.loc[user_mask, movie_mask]\n",
    "\n",
    "csr_data = csr_matrix(user_item_matrix.values)\n",
    "\n",
    "# user_item_matrix = user_item_matrix.rename_axis(None, axis = 1).reset_index()\n",
    "\n",
    "knn = NearestNeighbors(metric = 'cosine', algorithm = 'brute', n_neighbors = 20, n_jobs = -1)\n",
    "\n",
    "knn.fit(csr_data)\n",
    "\n"
   ]
  },
  {
   "cell_type": "code",
   "execution_count": null,
   "id": "4214f659",
   "metadata": {},
   "outputs": [],
   "source": []
  },
  {
   "cell_type": "code",
   "execution_count": null,
   "id": "cd85a319",
   "metadata": {
    "ExecuteTime": {
     "end_time": "2023-01-26T05:56:59.889039Z",
     "start_time": "2023-01-26T05:56:59.889039Z"
    }
   },
   "outputs": [],
   "source": [
    "import random\n",
    "\n",
    "movieIds = random.sample(matrix_original.columns.to_list(), 3)"
   ]
  },
  {
   "cell_type": "code",
   "execution_count": null,
   "id": "94d59aed",
   "metadata": {
    "ExecuteTime": {
     "end_time": "2023-01-26T05:56:59.890038Z",
     "start_time": "2023-01-26T05:56:59.890038Z"
    }
   },
   "outputs": [],
   "source": [
    "movieIds = [1,2,3,7,10]\n",
    "\n",
    "new_user_ratings = {key: value for key, value in zip(movieIds, [4,3,5,4,6])}\n",
    "\n",
    "new_user_ratings\n",
    "\n",
    "user = pd.DataFrame([np.zeros(matrix_original.columns.shape)], columns=matrix_original.columns)\n",
    "\n",
    "user.loc[:, new_user_ratings.keys()] = new_user_ratings.values()\n",
    "\n",
    "user"
   ]
  },
  {
   "cell_type": "code",
   "execution_count": null,
   "id": "a07ad1d1",
   "metadata": {
    "ExecuteTime": {
     "end_time": "2023-01-26T05:56:59.892038Z",
     "start_time": "2023-01-26T05:56:59.892038Z"
    }
   },
   "outputs": [],
   "source": [
    "\n",
    "# # Convert new user's ratings to a dataframe\n",
    "# new_user_ratings = pd.DataFrame(list(new_user_ratings.items()), columns = ['movieId', 'rating'])\n",
    "\n",
    "# # Merge the new user's ratings with the existing user-item matrix to align the movieId's\n",
    "# new_user_matrix = pd.merge(user_item_matrix, new_user_ratings, on='movieId', how='outer')\n",
    "\n",
    "# # Fill any missing values with 0\n",
    "# new_user_matrix.fillna(0, inplace=True)\n",
    "\n",
    "# # Get the index of the new user in the user-item matrix\n",
    "# new_user_index = new_user_matrix.shape[0] - 1\n",
    "\n",
    "new_user_item_matrix = user.loc[:, movie_mask]\n",
    "\n",
    "user_csr_data = csr_matrix(new_user_item_matrix.values)\n",
    "\n",
    "# Find the closest 20 users to the new user\n",
    "distances, indices = knn.kneighbors(user_csr_data, n_neighbors=50)\n",
    "\n",
    "# Get the closest users' indexes\n",
    "closest_users_indexes = indices[0]\n",
    "\n",
    "# Get the closest users' ids\n",
    "# closest_users_ids = user_item_matrix.iloc[closest_users_indexes]['userId']"
   ]
  },
  {
   "cell_type": "code",
   "execution_count": null,
   "id": "78de1c9e",
   "metadata": {
    "ExecuteTime": {
     "end_time": "2023-01-26T05:56:59.894038Z",
     "start_time": "2023-01-26T05:56:59.894038Z"
    }
   },
   "outputs": [],
   "source": [
    "indices, distances"
   ]
  },
  {
   "cell_type": "code",
   "execution_count": null,
   "id": "40944ec6",
   "metadata": {
    "ExecuteTime": {
     "end_time": "2023-01-26T05:56:59.896133Z",
     "start_time": "2023-01-26T05:56:59.896133Z"
    }
   },
   "outputs": [],
   "source": [
    "closest = csr_data[closest_users_indexes].todense()"
   ]
  },
  {
   "cell_type": "code",
   "execution_count": null,
   "id": "1591425b",
   "metadata": {
    "ExecuteTime": {
     "end_time": "2023-01-26T05:56:59.896133Z",
     "start_time": "2023-01-26T05:56:59.896133Z"
    }
   },
   "outputs": [],
   "source": [
    "movieIds = [1,2,3,7,8]\n",
    "\n",
    "new_user_ratings = {key: value for key, value in zip(movieIds, [4,3,5,4,6])}\n",
    "\n",
    "new_user_ratings\n",
    "\n",
    "user = pd.DataFrame([np.zeros(matrix_original.columns.shape)], columns=matrix_original.columns)\n",
    "\n",
    "user.loc[:, new_user_ratings.keys()] = new_user_ratings.values()"
   ]
  },
  {
   "cell_type": "code",
   "execution_count": null,
   "id": "a4a19a37",
   "metadata": {
    "ExecuteTime": {
     "end_time": "2023-01-26T05:56:59.896133Z",
     "start_time": "2023-01-26T05:56:59.896133Z"
    }
   },
   "outputs": [],
   "source": [
    "user[new_user_ratings.keys()]"
   ]
  },
  {
   "cell_type": "code",
   "execution_count": null,
   "id": "99d0d1dc",
   "metadata": {
    "ExecuteTime": {
     "end_time": "2023-01-26T05:56:59.901743Z",
     "start_time": "2023-01-26T05:56:59.901743Z"
    }
   },
   "outputs": [],
   "source": [
    "closest_users_indexes, new_user_ratings.keys()"
   ]
  },
  {
   "cell_type": "code",
   "execution_count": null,
   "id": "3f41cbe5",
   "metadata": {
    "ExecuteTime": {
     "end_time": "2023-01-26T05:56:59.903756Z",
     "start_time": "2023-01-26T05:56:59.903756Z"
    }
   },
   "outputs": [],
   "source": [
    "closest.loc[:, new_user_ratings.keys()]"
   ]
  },
  {
   "cell_type": "code",
   "execution_count": null,
   "id": "4fbe7b80",
   "metadata": {
    "ExecuteTime": {
     "end_time": "2023-01-26T05:56:59.905757Z",
     "start_time": "2023-01-26T05:56:59.905757Z"
    }
   },
   "outputs": [],
   "source": [
    "closest = pd.DataFrame(closest, columns=user_item_matrix.columns)"
   ]
  },
  {
   "cell_type": "code",
   "execution_count": null,
   "id": "27da5ad0",
   "metadata": {
    "ExecuteTime": {
     "end_time": "2023-01-26T05:56:59.907754Z",
     "start_time": "2023-01-26T05:56:59.907754Z"
    }
   },
   "outputs": [],
   "source": [
    "closest"
   ]
  },
  {
   "cell_type": "code",
   "execution_count": null,
   "id": "85987544",
   "metadata": {},
   "outputs": [],
   "source": []
  }
 ],
 "metadata": {
  "kernelspec": {
   "display_name": "Python 3 (ipykernel)",
   "language": "python",
   "name": "python3"
  },
  "language_info": {
   "codemirror_mode": {
    "name": "ipython",
    "version": 3
   },
   "file_extension": ".py",
   "mimetype": "text/x-python",
   "name": "python",
   "nbconvert_exporter": "python",
   "pygments_lexer": "ipython3",
   "version": "3.9.12"
  },
  "toc": {
   "base_numbering": 1,
   "nav_menu": {},
   "number_sections": true,
   "sideBar": true,
   "skip_h1_title": false,
   "title_cell": "Table of Contents",
   "title_sidebar": "Contents",
   "toc_cell": false,
   "toc_position": {},
   "toc_section_display": true,
   "toc_window_display": false
  }
 },
 "nbformat": 4,
 "nbformat_minor": 5
}
